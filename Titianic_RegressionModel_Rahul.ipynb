{
 "cells": [
  {
   "cell_type": "code",
   "execution_count": 1,
   "id": "0f6f20a1",
   "metadata": {},
   "outputs": [],
   "source": [
    "import pandas as pd\n",
    "import numpy as np\n",
    "import matplotlib.pyplot as plt "
   ]
  },
  {
   "cell_type": "code",
   "execution_count": 2,
   "id": "372626b9",
   "metadata": {},
   "outputs": [],
   "source": [
    "data = pd.read_csv('C:/Users/signi/Downloads/Titanic_Dataset.csv')"
   ]
  },
  {
   "cell_type": "code",
   "execution_count": 3,
   "id": "8f402f77",
   "metadata": {},
   "outputs": [
    {
     "data": {
      "text/html": [
       "<div>\n",
       "<style scoped>\n",
       "    .dataframe tbody tr th:only-of-type {\n",
       "        vertical-align: middle;\n",
       "    }\n",
       "\n",
       "    .dataframe tbody tr th {\n",
       "        vertical-align: top;\n",
       "    }\n",
       "\n",
       "    .dataframe thead th {\n",
       "        text-align: right;\n",
       "    }\n",
       "</style>\n",
       "<table border=\"1\" class=\"dataframe\">\n",
       "  <thead>\n",
       "    <tr style=\"text-align: right;\">\n",
       "      <th></th>\n",
       "      <th>PassengerId</th>\n",
       "      <th>Survived</th>\n",
       "      <th>Pclass</th>\n",
       "      <th>Name</th>\n",
       "      <th>Sex</th>\n",
       "      <th>Age</th>\n",
       "      <th>SibSp</th>\n",
       "      <th>Parch</th>\n",
       "      <th>Ticket</th>\n",
       "      <th>Fare</th>\n",
       "      <th>Cabin</th>\n",
       "      <th>Embarked</th>\n",
       "    </tr>\n",
       "  </thead>\n",
       "  <tbody>\n",
       "    <tr>\n",
       "      <th>0</th>\n",
       "      <td>1</td>\n",
       "      <td>0</td>\n",
       "      <td>3</td>\n",
       "      <td>Braund, Mr. Owen Harris</td>\n",
       "      <td>male</td>\n",
       "      <td>22.0</td>\n",
       "      <td>1</td>\n",
       "      <td>0</td>\n",
       "      <td>A/5 21171</td>\n",
       "      <td>7.2500</td>\n",
       "      <td>NaN</td>\n",
       "      <td>S</td>\n",
       "    </tr>\n",
       "    <tr>\n",
       "      <th>1</th>\n",
       "      <td>2</td>\n",
       "      <td>1</td>\n",
       "      <td>1</td>\n",
       "      <td>Cumings, Mrs. John Bradley (Florence Briggs Th...</td>\n",
       "      <td>female</td>\n",
       "      <td>38.0</td>\n",
       "      <td>1</td>\n",
       "      <td>0</td>\n",
       "      <td>PC 17599</td>\n",
       "      <td>71.2833</td>\n",
       "      <td>C85</td>\n",
       "      <td>C</td>\n",
       "    </tr>\n",
       "    <tr>\n",
       "      <th>2</th>\n",
       "      <td>3</td>\n",
       "      <td>1</td>\n",
       "      <td>3</td>\n",
       "      <td>Heikkinen, Miss. Laina</td>\n",
       "      <td>female</td>\n",
       "      <td>26.0</td>\n",
       "      <td>0</td>\n",
       "      <td>0</td>\n",
       "      <td>STON/O2. 3101282</td>\n",
       "      <td>7.9250</td>\n",
       "      <td>NaN</td>\n",
       "      <td>S</td>\n",
       "    </tr>\n",
       "    <tr>\n",
       "      <th>3</th>\n",
       "      <td>4</td>\n",
       "      <td>1</td>\n",
       "      <td>1</td>\n",
       "      <td>Futrelle, Mrs. Jacques Heath (Lily May Peel)</td>\n",
       "      <td>female</td>\n",
       "      <td>35.0</td>\n",
       "      <td>1</td>\n",
       "      <td>0</td>\n",
       "      <td>113803</td>\n",
       "      <td>53.1000</td>\n",
       "      <td>C123</td>\n",
       "      <td>S</td>\n",
       "    </tr>\n",
       "    <tr>\n",
       "      <th>4</th>\n",
       "      <td>5</td>\n",
       "      <td>0</td>\n",
       "      <td>3</td>\n",
       "      <td>Allen, Mr. William Henry</td>\n",
       "      <td>male</td>\n",
       "      <td>35.0</td>\n",
       "      <td>0</td>\n",
       "      <td>0</td>\n",
       "      <td>373450</td>\n",
       "      <td>8.0500</td>\n",
       "      <td>NaN</td>\n",
       "      <td>S</td>\n",
       "    </tr>\n",
       "  </tbody>\n",
       "</table>\n",
       "</div>"
      ],
      "text/plain": [
       "   PassengerId  Survived  Pclass  \\\n",
       "0            1         0       3   \n",
       "1            2         1       1   \n",
       "2            3         1       3   \n",
       "3            4         1       1   \n",
       "4            5         0       3   \n",
       "\n",
       "                                                Name     Sex   Age  SibSp  \\\n",
       "0                            Braund, Mr. Owen Harris    male  22.0      1   \n",
       "1  Cumings, Mrs. John Bradley (Florence Briggs Th...  female  38.0      1   \n",
       "2                             Heikkinen, Miss. Laina  female  26.0      0   \n",
       "3       Futrelle, Mrs. Jacques Heath (Lily May Peel)  female  35.0      1   \n",
       "4                           Allen, Mr. William Henry    male  35.0      0   \n",
       "\n",
       "   Parch            Ticket     Fare Cabin Embarked  \n",
       "0      0         A/5 21171   7.2500   NaN        S  \n",
       "1      0          PC 17599  71.2833   C85        C  \n",
       "2      0  STON/O2. 3101282   7.9250   NaN        S  \n",
       "3      0            113803  53.1000  C123        S  \n",
       "4      0            373450   8.0500   NaN        S  "
      ]
     },
     "execution_count": 3,
     "metadata": {},
     "output_type": "execute_result"
    }
   ],
   "source": [
    "data.head()"
   ]
  },
  {
   "cell_type": "code",
   "execution_count": 5,
   "id": "e0b30473",
   "metadata": {},
   "outputs": [],
   "source": [
    "data.drop('Cabin',axis=1,inplace=True)"
   ]
  },
  {
   "cell_type": "code",
   "execution_count": 12,
   "id": "1b09f3f5",
   "metadata": {},
   "outputs": [
    {
     "data": {
      "text/plain": [
       "PassengerId    0\n",
       "Survived       0\n",
       "Pclass         0\n",
       "Name           0\n",
       "Sex            0\n",
       "Age            0\n",
       "SibSp          0\n",
       "Parch          0\n",
       "Ticket         0\n",
       "Fare           0\n",
       "Embarked       0\n",
       "dtype: int64"
      ]
     },
     "execution_count": 12,
     "metadata": {},
     "output_type": "execute_result"
    }
   ],
   "source": [
    "data.isnull().sum()"
   ]
  },
  {
   "cell_type": "code",
   "execution_count": 7,
   "id": "059d2947",
   "metadata": {},
   "outputs": [],
   "source": [
    "mean_male = round(data[data.Sex==\"male\"]['Age'].mean())\n",
    "mean_female = round(data[data.Sex==\"female\"]['Age'].mean())"
   ]
  },
  {
   "cell_type": "code",
   "execution_count": 8,
   "id": "77795864",
   "metadata": {},
   "outputs": [],
   "source": [
    "data['Age'].fillna(value=mean_male, inplace=True)\n",
    "data['Age'].fillna(value=mean_female, inplace=True)"
   ]
  },
  {
   "cell_type": "code",
   "execution_count": 13,
   "id": "065bff9e",
   "metadata": {},
   "outputs": [
    {
     "data": {
      "text/html": [
       "<div>\n",
       "<style scoped>\n",
       "    .dataframe tbody tr th:only-of-type {\n",
       "        vertical-align: middle;\n",
       "    }\n",
       "\n",
       "    .dataframe tbody tr th {\n",
       "        vertical-align: top;\n",
       "    }\n",
       "\n",
       "    .dataframe thead th {\n",
       "        text-align: right;\n",
       "    }\n",
       "</style>\n",
       "<table border=\"1\" class=\"dataframe\">\n",
       "  <thead>\n",
       "    <tr style=\"text-align: right;\">\n",
       "      <th></th>\n",
       "      <th>PassengerId</th>\n",
       "      <th>Survived</th>\n",
       "      <th>Pclass</th>\n",
       "      <th>Name</th>\n",
       "      <th>Sex</th>\n",
       "      <th>Age</th>\n",
       "      <th>SibSp</th>\n",
       "      <th>Parch</th>\n",
       "      <th>Ticket</th>\n",
       "      <th>Fare</th>\n",
       "      <th>Embarked</th>\n",
       "    </tr>\n",
       "  </thead>\n",
       "  <tbody>\n",
       "  </tbody>\n",
       "</table>\n",
       "</div>"
      ],
      "text/plain": [
       "Empty DataFrame\n",
       "Columns: [PassengerId, Survived, Pclass, Name, Sex, Age, SibSp, Parch, Ticket, Fare, Embarked]\n",
       "Index: []"
      ]
     },
     "execution_count": 13,
     "metadata": {},
     "output_type": "execute_result"
    }
   ],
   "source": [
    "data[data['Embarked'].isna()]"
   ]
  },
  {
   "cell_type": "code",
   "execution_count": 11,
   "id": "01b05d24",
   "metadata": {},
   "outputs": [],
   "source": [
    "data['Embarked'] = data['Embarked'].fillna('S')"
   ]
  },
  {
   "cell_type": "code",
   "execution_count": 15,
   "id": "1c36bb0f",
   "metadata": {},
   "outputs": [
    {
     "data": {
      "text/html": [
       "<div>\n",
       "<style scoped>\n",
       "    .dataframe tbody tr th:only-of-type {\n",
       "        vertical-align: middle;\n",
       "    }\n",
       "\n",
       "    .dataframe tbody tr th {\n",
       "        vertical-align: top;\n",
       "    }\n",
       "\n",
       "    .dataframe thead th {\n",
       "        text-align: right;\n",
       "    }\n",
       "</style>\n",
       "<table border=\"1\" class=\"dataframe\">\n",
       "  <thead>\n",
       "    <tr style=\"text-align: right;\">\n",
       "      <th></th>\n",
       "      <th>PassengerId</th>\n",
       "      <th>Survived</th>\n",
       "      <th>Pclass</th>\n",
       "      <th>Name</th>\n",
       "      <th>Sex</th>\n",
       "      <th>Age</th>\n",
       "      <th>SibSp</th>\n",
       "      <th>Parch</th>\n",
       "      <th>Ticket</th>\n",
       "      <th>Fare</th>\n",
       "      <th>Embarked</th>\n",
       "      <th>Q</th>\n",
       "      <th>S</th>\n",
       "      <th>male</th>\n",
       "    </tr>\n",
       "  </thead>\n",
       "  <tbody>\n",
       "    <tr>\n",
       "      <th>0</th>\n",
       "      <td>1</td>\n",
       "      <td>0</td>\n",
       "      <td>3</td>\n",
       "      <td>Braund, Mr. Owen Harris</td>\n",
       "      <td>male</td>\n",
       "      <td>22.0</td>\n",
       "      <td>1</td>\n",
       "      <td>0</td>\n",
       "      <td>A/5 21171</td>\n",
       "      <td>7.2500</td>\n",
       "      <td>S</td>\n",
       "      <td>0</td>\n",
       "      <td>1</td>\n",
       "      <td>1</td>\n",
       "    </tr>\n",
       "    <tr>\n",
       "      <th>1</th>\n",
       "      <td>2</td>\n",
       "      <td>1</td>\n",
       "      <td>1</td>\n",
       "      <td>Cumings, Mrs. John Bradley (Florence Briggs Th...</td>\n",
       "      <td>female</td>\n",
       "      <td>38.0</td>\n",
       "      <td>1</td>\n",
       "      <td>0</td>\n",
       "      <td>PC 17599</td>\n",
       "      <td>71.2833</td>\n",
       "      <td>C</td>\n",
       "      <td>0</td>\n",
       "      <td>0</td>\n",
       "      <td>0</td>\n",
       "    </tr>\n",
       "    <tr>\n",
       "      <th>2</th>\n",
       "      <td>3</td>\n",
       "      <td>1</td>\n",
       "      <td>3</td>\n",
       "      <td>Heikkinen, Miss. Laina</td>\n",
       "      <td>female</td>\n",
       "      <td>26.0</td>\n",
       "      <td>0</td>\n",
       "      <td>0</td>\n",
       "      <td>STON/O2. 3101282</td>\n",
       "      <td>7.9250</td>\n",
       "      <td>S</td>\n",
       "      <td>0</td>\n",
       "      <td>1</td>\n",
       "      <td>0</td>\n",
       "    </tr>\n",
       "    <tr>\n",
       "      <th>3</th>\n",
       "      <td>4</td>\n",
       "      <td>1</td>\n",
       "      <td>1</td>\n",
       "      <td>Futrelle, Mrs. Jacques Heath (Lily May Peel)</td>\n",
       "      <td>female</td>\n",
       "      <td>35.0</td>\n",
       "      <td>1</td>\n",
       "      <td>0</td>\n",
       "      <td>113803</td>\n",
       "      <td>53.1000</td>\n",
       "      <td>S</td>\n",
       "      <td>0</td>\n",
       "      <td>1</td>\n",
       "      <td>0</td>\n",
       "    </tr>\n",
       "    <tr>\n",
       "      <th>4</th>\n",
       "      <td>5</td>\n",
       "      <td>0</td>\n",
       "      <td>3</td>\n",
       "      <td>Allen, Mr. William Henry</td>\n",
       "      <td>male</td>\n",
       "      <td>35.0</td>\n",
       "      <td>0</td>\n",
       "      <td>0</td>\n",
       "      <td>373450</td>\n",
       "      <td>8.0500</td>\n",
       "      <td>S</td>\n",
       "      <td>0</td>\n",
       "      <td>1</td>\n",
       "      <td>1</td>\n",
       "    </tr>\n",
       "    <tr>\n",
       "      <th>...</th>\n",
       "      <td>...</td>\n",
       "      <td>...</td>\n",
       "      <td>...</td>\n",
       "      <td>...</td>\n",
       "      <td>...</td>\n",
       "      <td>...</td>\n",
       "      <td>...</td>\n",
       "      <td>...</td>\n",
       "      <td>...</td>\n",
       "      <td>...</td>\n",
       "      <td>...</td>\n",
       "      <td>...</td>\n",
       "      <td>...</td>\n",
       "      <td>...</td>\n",
       "    </tr>\n",
       "    <tr>\n",
       "      <th>886</th>\n",
       "      <td>887</td>\n",
       "      <td>0</td>\n",
       "      <td>2</td>\n",
       "      <td>Montvila, Rev. Juozas</td>\n",
       "      <td>male</td>\n",
       "      <td>27.0</td>\n",
       "      <td>0</td>\n",
       "      <td>0</td>\n",
       "      <td>211536</td>\n",
       "      <td>13.0000</td>\n",
       "      <td>S</td>\n",
       "      <td>0</td>\n",
       "      <td>1</td>\n",
       "      <td>1</td>\n",
       "    </tr>\n",
       "    <tr>\n",
       "      <th>887</th>\n",
       "      <td>888</td>\n",
       "      <td>1</td>\n",
       "      <td>1</td>\n",
       "      <td>Graham, Miss. Margaret Edith</td>\n",
       "      <td>female</td>\n",
       "      <td>19.0</td>\n",
       "      <td>0</td>\n",
       "      <td>0</td>\n",
       "      <td>112053</td>\n",
       "      <td>30.0000</td>\n",
       "      <td>S</td>\n",
       "      <td>0</td>\n",
       "      <td>1</td>\n",
       "      <td>0</td>\n",
       "    </tr>\n",
       "    <tr>\n",
       "      <th>888</th>\n",
       "      <td>889</td>\n",
       "      <td>0</td>\n",
       "      <td>3</td>\n",
       "      <td>Johnston, Miss. Catherine Helen \"Carrie\"</td>\n",
       "      <td>female</td>\n",
       "      <td>31.0</td>\n",
       "      <td>1</td>\n",
       "      <td>2</td>\n",
       "      <td>W./C. 6607</td>\n",
       "      <td>23.4500</td>\n",
       "      <td>S</td>\n",
       "      <td>0</td>\n",
       "      <td>1</td>\n",
       "      <td>0</td>\n",
       "    </tr>\n",
       "    <tr>\n",
       "      <th>889</th>\n",
       "      <td>890</td>\n",
       "      <td>1</td>\n",
       "      <td>1</td>\n",
       "      <td>Behr, Mr. Karl Howell</td>\n",
       "      <td>male</td>\n",
       "      <td>26.0</td>\n",
       "      <td>0</td>\n",
       "      <td>0</td>\n",
       "      <td>111369</td>\n",
       "      <td>30.0000</td>\n",
       "      <td>C</td>\n",
       "      <td>0</td>\n",
       "      <td>0</td>\n",
       "      <td>1</td>\n",
       "    </tr>\n",
       "    <tr>\n",
       "      <th>890</th>\n",
       "      <td>891</td>\n",
       "      <td>0</td>\n",
       "      <td>3</td>\n",
       "      <td>Dooley, Mr. Patrick</td>\n",
       "      <td>male</td>\n",
       "      <td>32.0</td>\n",
       "      <td>0</td>\n",
       "      <td>0</td>\n",
       "      <td>370376</td>\n",
       "      <td>7.7500</td>\n",
       "      <td>Q</td>\n",
       "      <td>1</td>\n",
       "      <td>0</td>\n",
       "      <td>1</td>\n",
       "    </tr>\n",
       "  </tbody>\n",
       "</table>\n",
       "<p>891 rows × 14 columns</p>\n",
       "</div>"
      ],
      "text/plain": [
       "     PassengerId  Survived  Pclass  \\\n",
       "0              1         0       3   \n",
       "1              2         1       1   \n",
       "2              3         1       3   \n",
       "3              4         1       1   \n",
       "4              5         0       3   \n",
       "..           ...       ...     ...   \n",
       "886          887         0       2   \n",
       "887          888         1       1   \n",
       "888          889         0       3   \n",
       "889          890         1       1   \n",
       "890          891         0       3   \n",
       "\n",
       "                                                  Name     Sex   Age  SibSp  \\\n",
       "0                              Braund, Mr. Owen Harris    male  22.0      1   \n",
       "1    Cumings, Mrs. John Bradley (Florence Briggs Th...  female  38.0      1   \n",
       "2                               Heikkinen, Miss. Laina  female  26.0      0   \n",
       "3         Futrelle, Mrs. Jacques Heath (Lily May Peel)  female  35.0      1   \n",
       "4                             Allen, Mr. William Henry    male  35.0      0   \n",
       "..                                                 ...     ...   ...    ...   \n",
       "886                              Montvila, Rev. Juozas    male  27.0      0   \n",
       "887                       Graham, Miss. Margaret Edith  female  19.0      0   \n",
       "888           Johnston, Miss. Catherine Helen \"Carrie\"  female  31.0      1   \n",
       "889                              Behr, Mr. Karl Howell    male  26.0      0   \n",
       "890                                Dooley, Mr. Patrick    male  32.0      0   \n",
       "\n",
       "     Parch            Ticket     Fare Embarked  Q  S  male  \n",
       "0        0         A/5 21171   7.2500        S  0  1     1  \n",
       "1        0          PC 17599  71.2833        C  0  0     0  \n",
       "2        0  STON/O2. 3101282   7.9250        S  0  1     0  \n",
       "3        0            113803  53.1000        S  0  1     0  \n",
       "4        0            373450   8.0500        S  0  1     1  \n",
       "..     ...               ...      ...      ... .. ..   ...  \n",
       "886      0            211536  13.0000        S  0  1     1  \n",
       "887      0            112053  30.0000        S  0  1     0  \n",
       "888      2        W./C. 6607  23.4500        S  0  1     0  \n",
       "889      0            111369  30.0000        C  0  0     1  \n",
       "890      0            370376   7.7500        Q  1  0     1  \n",
       "\n",
       "[891 rows x 14 columns]"
      ]
     },
     "execution_count": 15,
     "metadata": {},
     "output_type": "execute_result"
    }
   ],
   "source": [
    "#Adding onehot encoding\n",
    "dummy = pd.get_dummies(data['Sex'], drop_first=True)\n",
    "data = pd.concat([data.reset_index(drop=True),dummy],axis=1)\n",
    "data\n",
    "# data = data.drop('Type',axis=1)"
   ]
  },
  {
   "cell_type": "code",
   "execution_count": 16,
   "id": "d06e60c7",
   "metadata": {},
   "outputs": [
    {
     "data": {
      "text/html": [
       "<div>\n",
       "<style scoped>\n",
       "    .dataframe tbody tr th:only-of-type {\n",
       "        vertical-align: middle;\n",
       "    }\n",
       "\n",
       "    .dataframe tbody tr th {\n",
       "        vertical-align: top;\n",
       "    }\n",
       "\n",
       "    .dataframe thead th {\n",
       "        text-align: right;\n",
       "    }\n",
       "</style>\n",
       "<table border=\"1\" class=\"dataframe\">\n",
       "  <thead>\n",
       "    <tr style=\"text-align: right;\">\n",
       "      <th></th>\n",
       "      <th>PassengerId</th>\n",
       "      <th>Survived</th>\n",
       "      <th>Pclass</th>\n",
       "      <th>Name</th>\n",
       "      <th>Sex</th>\n",
       "      <th>Age</th>\n",
       "      <th>SibSp</th>\n",
       "      <th>Parch</th>\n",
       "      <th>Ticket</th>\n",
       "      <th>Fare</th>\n",
       "      <th>Embarked</th>\n",
       "      <th>Q</th>\n",
       "      <th>S</th>\n",
       "      <th>male</th>\n",
       "    </tr>\n",
       "  </thead>\n",
       "  <tbody>\n",
       "    <tr>\n",
       "      <th>0</th>\n",
       "      <td>1</td>\n",
       "      <td>0</td>\n",
       "      <td>3</td>\n",
       "      <td>Braund, Mr. Owen Harris</td>\n",
       "      <td>male</td>\n",
       "      <td>22.0</td>\n",
       "      <td>1</td>\n",
       "      <td>0</td>\n",
       "      <td>A/5 21171</td>\n",
       "      <td>7.2500</td>\n",
       "      <td>S</td>\n",
       "      <td>0</td>\n",
       "      <td>1</td>\n",
       "      <td>1</td>\n",
       "    </tr>\n",
       "    <tr>\n",
       "      <th>1</th>\n",
       "      <td>2</td>\n",
       "      <td>1</td>\n",
       "      <td>1</td>\n",
       "      <td>Cumings, Mrs. John Bradley (Florence Briggs Th...</td>\n",
       "      <td>female</td>\n",
       "      <td>38.0</td>\n",
       "      <td>1</td>\n",
       "      <td>0</td>\n",
       "      <td>PC 17599</td>\n",
       "      <td>71.2833</td>\n",
       "      <td>C</td>\n",
       "      <td>0</td>\n",
       "      <td>0</td>\n",
       "      <td>0</td>\n",
       "    </tr>\n",
       "    <tr>\n",
       "      <th>2</th>\n",
       "      <td>3</td>\n",
       "      <td>1</td>\n",
       "      <td>3</td>\n",
       "      <td>Heikkinen, Miss. Laina</td>\n",
       "      <td>female</td>\n",
       "      <td>26.0</td>\n",
       "      <td>0</td>\n",
       "      <td>0</td>\n",
       "      <td>STON/O2. 3101282</td>\n",
       "      <td>7.9250</td>\n",
       "      <td>S</td>\n",
       "      <td>0</td>\n",
       "      <td>1</td>\n",
       "      <td>0</td>\n",
       "    </tr>\n",
       "    <tr>\n",
       "      <th>3</th>\n",
       "      <td>4</td>\n",
       "      <td>1</td>\n",
       "      <td>1</td>\n",
       "      <td>Futrelle, Mrs. Jacques Heath (Lily May Peel)</td>\n",
       "      <td>female</td>\n",
       "      <td>35.0</td>\n",
       "      <td>1</td>\n",
       "      <td>0</td>\n",
       "      <td>113803</td>\n",
       "      <td>53.1000</td>\n",
       "      <td>S</td>\n",
       "      <td>0</td>\n",
       "      <td>1</td>\n",
       "      <td>0</td>\n",
       "    </tr>\n",
       "    <tr>\n",
       "      <th>4</th>\n",
       "      <td>5</td>\n",
       "      <td>0</td>\n",
       "      <td>3</td>\n",
       "      <td>Allen, Mr. William Henry</td>\n",
       "      <td>male</td>\n",
       "      <td>35.0</td>\n",
       "      <td>0</td>\n",
       "      <td>0</td>\n",
       "      <td>373450</td>\n",
       "      <td>8.0500</td>\n",
       "      <td>S</td>\n",
       "      <td>0</td>\n",
       "      <td>1</td>\n",
       "      <td>1</td>\n",
       "    </tr>\n",
       "  </tbody>\n",
       "</table>\n",
       "</div>"
      ],
      "text/plain": [
       "   PassengerId  Survived  Pclass  \\\n",
       "0            1         0       3   \n",
       "1            2         1       1   \n",
       "2            3         1       3   \n",
       "3            4         1       1   \n",
       "4            5         0       3   \n",
       "\n",
       "                                                Name     Sex   Age  SibSp  \\\n",
       "0                            Braund, Mr. Owen Harris    male  22.0      1   \n",
       "1  Cumings, Mrs. John Bradley (Florence Briggs Th...  female  38.0      1   \n",
       "2                             Heikkinen, Miss. Laina  female  26.0      0   \n",
       "3       Futrelle, Mrs. Jacques Heath (Lily May Peel)  female  35.0      1   \n",
       "4                           Allen, Mr. William Henry    male  35.0      0   \n",
       "\n",
       "   Parch            Ticket     Fare Embarked  Q  S  male  \n",
       "0      0         A/5 21171   7.2500        S  0  1     1  \n",
       "1      0          PC 17599  71.2833        C  0  0     0  \n",
       "2      0  STON/O2. 3101282   7.9250        S  0  1     0  \n",
       "3      0            113803  53.1000        S  0  1     0  \n",
       "4      0            373450   8.0500        S  0  1     1  "
      ]
     },
     "execution_count": 16,
     "metadata": {},
     "output_type": "execute_result"
    }
   ],
   "source": [
    "data.head()"
   ]
  },
  {
   "cell_type": "code",
   "execution_count": 28,
   "id": "d33bdbe5",
   "metadata": {},
   "outputs": [
    {
     "data": {
      "text/html": [
       "<div>\n",
       "<style scoped>\n",
       "    .dataframe tbody tr th:only-of-type {\n",
       "        vertical-align: middle;\n",
       "    }\n",
       "\n",
       "    .dataframe tbody tr th {\n",
       "        vertical-align: top;\n",
       "    }\n",
       "\n",
       "    .dataframe thead th {\n",
       "        text-align: right;\n",
       "    }\n",
       "</style>\n",
       "<table border=\"1\" class=\"dataframe\">\n",
       "  <thead>\n",
       "    <tr style=\"text-align: right;\">\n",
       "      <th></th>\n",
       "      <th>Survived</th>\n",
       "      <th>Pclass</th>\n",
       "      <th>Age</th>\n",
       "      <th>SibSp</th>\n",
       "      <th>Parch</th>\n",
       "      <th>Fare</th>\n",
       "      <th>Q</th>\n",
       "      <th>S</th>\n",
       "      <th>male</th>\n",
       "    </tr>\n",
       "  </thead>\n",
       "  <tbody>\n",
       "    <tr>\n",
       "      <th>0</th>\n",
       "      <td>0</td>\n",
       "      <td>3</td>\n",
       "      <td>22.0</td>\n",
       "      <td>1</td>\n",
       "      <td>0</td>\n",
       "      <td>7.2500</td>\n",
       "      <td>0</td>\n",
       "      <td>1</td>\n",
       "      <td>1</td>\n",
       "    </tr>\n",
       "    <tr>\n",
       "      <th>1</th>\n",
       "      <td>1</td>\n",
       "      <td>1</td>\n",
       "      <td>38.0</td>\n",
       "      <td>1</td>\n",
       "      <td>0</td>\n",
       "      <td>71.2833</td>\n",
       "      <td>0</td>\n",
       "      <td>0</td>\n",
       "      <td>0</td>\n",
       "    </tr>\n",
       "    <tr>\n",
       "      <th>2</th>\n",
       "      <td>1</td>\n",
       "      <td>3</td>\n",
       "      <td>26.0</td>\n",
       "      <td>0</td>\n",
       "      <td>0</td>\n",
       "      <td>7.9250</td>\n",
       "      <td>0</td>\n",
       "      <td>1</td>\n",
       "      <td>0</td>\n",
       "    </tr>\n",
       "    <tr>\n",
       "      <th>3</th>\n",
       "      <td>1</td>\n",
       "      <td>1</td>\n",
       "      <td>35.0</td>\n",
       "      <td>1</td>\n",
       "      <td>0</td>\n",
       "      <td>53.1000</td>\n",
       "      <td>0</td>\n",
       "      <td>1</td>\n",
       "      <td>0</td>\n",
       "    </tr>\n",
       "    <tr>\n",
       "      <th>4</th>\n",
       "      <td>0</td>\n",
       "      <td>3</td>\n",
       "      <td>35.0</td>\n",
       "      <td>0</td>\n",
       "      <td>0</td>\n",
       "      <td>8.0500</td>\n",
       "      <td>0</td>\n",
       "      <td>1</td>\n",
       "      <td>1</td>\n",
       "    </tr>\n",
       "    <tr>\n",
       "      <th>...</th>\n",
       "      <td>...</td>\n",
       "      <td>...</td>\n",
       "      <td>...</td>\n",
       "      <td>...</td>\n",
       "      <td>...</td>\n",
       "      <td>...</td>\n",
       "      <td>...</td>\n",
       "      <td>...</td>\n",
       "      <td>...</td>\n",
       "    </tr>\n",
       "    <tr>\n",
       "      <th>886</th>\n",
       "      <td>0</td>\n",
       "      <td>2</td>\n",
       "      <td>27.0</td>\n",
       "      <td>0</td>\n",
       "      <td>0</td>\n",
       "      <td>13.0000</td>\n",
       "      <td>0</td>\n",
       "      <td>1</td>\n",
       "      <td>1</td>\n",
       "    </tr>\n",
       "    <tr>\n",
       "      <th>887</th>\n",
       "      <td>1</td>\n",
       "      <td>1</td>\n",
       "      <td>19.0</td>\n",
       "      <td>0</td>\n",
       "      <td>0</td>\n",
       "      <td>30.0000</td>\n",
       "      <td>0</td>\n",
       "      <td>1</td>\n",
       "      <td>0</td>\n",
       "    </tr>\n",
       "    <tr>\n",
       "      <th>888</th>\n",
       "      <td>0</td>\n",
       "      <td>3</td>\n",
       "      <td>31.0</td>\n",
       "      <td>1</td>\n",
       "      <td>2</td>\n",
       "      <td>23.4500</td>\n",
       "      <td>0</td>\n",
       "      <td>1</td>\n",
       "      <td>0</td>\n",
       "    </tr>\n",
       "    <tr>\n",
       "      <th>889</th>\n",
       "      <td>1</td>\n",
       "      <td>1</td>\n",
       "      <td>26.0</td>\n",
       "      <td>0</td>\n",
       "      <td>0</td>\n",
       "      <td>30.0000</td>\n",
       "      <td>0</td>\n",
       "      <td>0</td>\n",
       "      <td>1</td>\n",
       "    </tr>\n",
       "    <tr>\n",
       "      <th>890</th>\n",
       "      <td>0</td>\n",
       "      <td>3</td>\n",
       "      <td>32.0</td>\n",
       "      <td>0</td>\n",
       "      <td>0</td>\n",
       "      <td>7.7500</td>\n",
       "      <td>1</td>\n",
       "      <td>0</td>\n",
       "      <td>1</td>\n",
       "    </tr>\n",
       "  </tbody>\n",
       "</table>\n",
       "<p>891 rows × 9 columns</p>\n",
       "</div>"
      ],
      "text/plain": [
       "     Survived  Pclass   Age  SibSp  Parch     Fare  Q  S  male\n",
       "0           0       3  22.0      1      0   7.2500  0  1     1\n",
       "1           1       1  38.0      1      0  71.2833  0  0     0\n",
       "2           1       3  26.0      0      0   7.9250  0  1     0\n",
       "3           1       1  35.0      1      0  53.1000  0  1     0\n",
       "4           0       3  35.0      0      0   8.0500  0  1     1\n",
       "..        ...     ...   ...    ...    ...      ... .. ..   ...\n",
       "886         0       2  27.0      0      0  13.0000  0  1     1\n",
       "887         1       1  19.0      0      0  30.0000  0  1     0\n",
       "888         0       3  31.0      1      2  23.4500  0  1     0\n",
       "889         1       1  26.0      0      0  30.0000  0  0     1\n",
       "890         0       3  32.0      0      0   7.7500  1  0     1\n",
       "\n",
       "[891 rows x 9 columns]"
      ]
     },
     "execution_count": 28,
     "metadata": {},
     "output_type": "execute_result"
    }
   ],
   "source": [
    "# data.drop('Embarked', axis = 1,inplace = True)\n",
    "data"
   ]
  },
  {
   "cell_type": "code",
   "execution_count": 281,
   "id": "e0c80d72",
   "metadata": {},
   "outputs": [
    {
     "data": {
      "text/html": [
       "<div>\n",
       "<style scoped>\n",
       "    .dataframe tbody tr th:only-of-type {\n",
       "        vertical-align: middle;\n",
       "    }\n",
       "\n",
       "    .dataframe tbody tr th {\n",
       "        vertical-align: top;\n",
       "    }\n",
       "\n",
       "    .dataframe thead th {\n",
       "        text-align: right;\n",
       "    }\n",
       "</style>\n",
       "<table border=\"1\" class=\"dataframe\">\n",
       "  <thead>\n",
       "    <tr style=\"text-align: right;\">\n",
       "      <th></th>\n",
       "      <th>Survived</th>\n",
       "      <th>Pclass</th>\n",
       "      <th>Age</th>\n",
       "      <th>SibSp</th>\n",
       "      <th>Parch</th>\n",
       "      <th>Fare</th>\n",
       "      <th>Q</th>\n",
       "      <th>S</th>\n",
       "      <th>male</th>\n",
       "    </tr>\n",
       "  </thead>\n",
       "  <tbody>\n",
       "    <tr>\n",
       "      <th>Survived</th>\n",
       "      <td>1.000000</td>\n",
       "      <td>-0.338481</td>\n",
       "      <td>-0.073432</td>\n",
       "      <td>-0.035322</td>\n",
       "      <td>0.081629</td>\n",
       "      <td>0.257307</td>\n",
       "      <td>0.003650</td>\n",
       "      <td>-0.149683</td>\n",
       "      <td>-0.543351</td>\n",
       "    </tr>\n",
       "    <tr>\n",
       "      <th>Pclass</th>\n",
       "      <td>-0.338481</td>\n",
       "      <td>1.000000</td>\n",
       "      <td>-0.324173</td>\n",
       "      <td>0.083081</td>\n",
       "      <td>0.018443</td>\n",
       "      <td>-0.549500</td>\n",
       "      <td>0.221009</td>\n",
       "      <td>0.074053</td>\n",
       "      <td>0.131900</td>\n",
       "    </tr>\n",
       "    <tr>\n",
       "      <th>Age</th>\n",
       "      <td>-0.073432</td>\n",
       "      <td>-0.324173</td>\n",
       "      <td>1.000000</td>\n",
       "      <td>-0.231683</td>\n",
       "      <td>-0.184001</td>\n",
       "      <td>0.087474</td>\n",
       "      <td>-0.000378</td>\n",
       "      <td>-0.028958</td>\n",
       "      <td>0.086290</td>\n",
       "    </tr>\n",
       "    <tr>\n",
       "      <th>SibSp</th>\n",
       "      <td>-0.035322</td>\n",
       "      <td>0.083081</td>\n",
       "      <td>-0.231683</td>\n",
       "      <td>1.000000</td>\n",
       "      <td>0.414838</td>\n",
       "      <td>0.159651</td>\n",
       "      <td>-0.026354</td>\n",
       "      <td>0.068734</td>\n",
       "      <td>-0.114631</td>\n",
       "    </tr>\n",
       "    <tr>\n",
       "      <th>Parch</th>\n",
       "      <td>0.081629</td>\n",
       "      <td>0.018443</td>\n",
       "      <td>-0.184001</td>\n",
       "      <td>0.414838</td>\n",
       "      <td>1.000000</td>\n",
       "      <td>0.216225</td>\n",
       "      <td>-0.081228</td>\n",
       "      <td>0.060814</td>\n",
       "      <td>-0.245489</td>\n",
       "    </tr>\n",
       "    <tr>\n",
       "      <th>Fare</th>\n",
       "      <td>0.257307</td>\n",
       "      <td>-0.549500</td>\n",
       "      <td>0.087474</td>\n",
       "      <td>0.159651</td>\n",
       "      <td>0.216225</td>\n",
       "      <td>1.000000</td>\n",
       "      <td>-0.117216</td>\n",
       "      <td>-0.162184</td>\n",
       "      <td>-0.182333</td>\n",
       "    </tr>\n",
       "    <tr>\n",
       "      <th>Q</th>\n",
       "      <td>0.003650</td>\n",
       "      <td>0.221009</td>\n",
       "      <td>-0.000378</td>\n",
       "      <td>-0.026354</td>\n",
       "      <td>-0.081228</td>\n",
       "      <td>-0.117216</td>\n",
       "      <td>1.000000</td>\n",
       "      <td>-0.499421</td>\n",
       "      <td>-0.074115</td>\n",
       "    </tr>\n",
       "    <tr>\n",
       "      <th>S</th>\n",
       "      <td>-0.149683</td>\n",
       "      <td>0.074053</td>\n",
       "      <td>-0.028958</td>\n",
       "      <td>0.068734</td>\n",
       "      <td>0.060814</td>\n",
       "      <td>-0.162184</td>\n",
       "      <td>-0.499421</td>\n",
       "      <td>1.000000</td>\n",
       "      <td>0.119224</td>\n",
       "    </tr>\n",
       "    <tr>\n",
       "      <th>male</th>\n",
       "      <td>-0.543351</td>\n",
       "      <td>0.131900</td>\n",
       "      <td>0.086290</td>\n",
       "      <td>-0.114631</td>\n",
       "      <td>-0.245489</td>\n",
       "      <td>-0.182333</td>\n",
       "      <td>-0.074115</td>\n",
       "      <td>0.119224</td>\n",
       "      <td>1.000000</td>\n",
       "    </tr>\n",
       "  </tbody>\n",
       "</table>\n",
       "</div>"
      ],
      "text/plain": [
       "          Survived    Pclass       Age     SibSp     Parch      Fare  \\\n",
       "Survived  1.000000 -0.338481 -0.073432 -0.035322  0.081629  0.257307   \n",
       "Pclass   -0.338481  1.000000 -0.324173  0.083081  0.018443 -0.549500   \n",
       "Age      -0.073432 -0.324173  1.000000 -0.231683 -0.184001  0.087474   \n",
       "SibSp    -0.035322  0.083081 -0.231683  1.000000  0.414838  0.159651   \n",
       "Parch     0.081629  0.018443 -0.184001  0.414838  1.000000  0.216225   \n",
       "Fare      0.257307 -0.549500  0.087474  0.159651  0.216225  1.000000   \n",
       "Q         0.003650  0.221009 -0.000378 -0.026354 -0.081228 -0.117216   \n",
       "S        -0.149683  0.074053 -0.028958  0.068734  0.060814 -0.162184   \n",
       "male     -0.543351  0.131900  0.086290 -0.114631 -0.245489 -0.182333   \n",
       "\n",
       "                 Q         S      male  \n",
       "Survived  0.003650 -0.149683 -0.543351  \n",
       "Pclass    0.221009  0.074053  0.131900  \n",
       "Age      -0.000378 -0.028958  0.086290  \n",
       "SibSp    -0.026354  0.068734 -0.114631  \n",
       "Parch    -0.081228  0.060814 -0.245489  \n",
       "Fare     -0.117216 -0.162184 -0.182333  \n",
       "Q         1.000000 -0.499421 -0.074115  \n",
       "S        -0.499421  1.000000  0.119224  \n",
       "male     -0.074115  0.119224  1.000000  "
      ]
     },
     "execution_count": 281,
     "metadata": {},
     "output_type": "execute_result"
    }
   ],
   "source": [
    "data.corr()"
   ]
  },
  {
   "cell_type": "code",
   "execution_count": 287,
   "id": "c3bb45e6",
   "metadata": {},
   "outputs": [
    {
     "data": {
      "image/png": "[encoded data removed]",
      "text/plain": [
       "<Figure size 2000x1200 with 2 Axes>"
      ]
     },
     "metadata": {
      "needs_background": "light"
     },
     "output_type": "display_data"
    }
   ],
   "source": [
    "import seaborn as sns\n",
    "plt.figure(figsize=(10,6),dpi = 200) \n",
    "dataplot = sns.heatmap(data.corr(), cmap=\"YlGnBu\", annot=True)"
   ]
  },
  {
   "cell_type": "code",
   "execution_count": 252,
   "id": "b6633c81",
   "metadata": {},
   "outputs": [],
   "source": [
    "features = ['Survived', 'Pclass','Age', 'SibSp', 'Parch','male', 'Q', 'S']\n",
    "response = ['Fare']\n",
    "# X is independent variables\n",
    "# Y is dependent variable\n",
    "X=data[features].values\n",
    "y=data[response].values"
   ]
  },
  {
   "cell_type": "code",
   "execution_count": 253,
   "id": "699d6dc4",
   "metadata": {},
   "outputs": [],
   "source": [
    "from sklearn.linear_model import LinearRegression\n",
    "from sklearn.model_selection import train_test_split"
   ]
  },
  {
   "cell_type": "code",
   "execution_count": 254,
   "id": "85fc6fec",
   "metadata": {},
   "outputs": [],
   "source": [
    "X_train, X_test, y_train, y_test = train_test_split(X, y, test_size=0.3, random_state=0)"
   ]
  },
  {
   "cell_type": "code",
   "execution_count": 255,
   "id": "2d17e2f7",
   "metadata": {},
   "outputs": [],
   "source": [
    "model = LinearRegression()"
   ]
  },
  {
   "cell_type": "code",
   "execution_count": 256,
   "id": "014aeb8c",
   "metadata": {},
   "outputs": [],
   "source": [
    "model = model.fit(X_train,y_train)"
   ]
  },
  {
   "cell_type": "code",
   "execution_count": 257,
   "id": "86944830",
   "metadata": {},
   "outputs": [
    {
     "name": "stdout",
     "output_type": "stream",
     "text": [
      "[[  3.00888407 -31.03816249  -0.05600417   5.82278066  10.5569046\n",
      "    1.69759431 -10.85296855 -16.46419061]]\n",
      "[108.71954889]\n"
     ]
    }
   ],
   "source": [
    "print(model.coef_)\n",
    "print(model.intercept_)"
   ]
  },
  {
   "cell_type": "code",
   "execution_count": 169,
   "id": "cf0fca6a",
   "metadata": {},
   "outputs": [
    {
     "data": {
      "text/html": [
       "<div>\n",
       "<style scoped>\n",
       "    .dataframe tbody tr th:only-of-type {\n",
       "        vertical-align: middle;\n",
       "    }\n",
       "\n",
       "    .dataframe tbody tr th {\n",
       "        vertical-align: top;\n",
       "    }\n",
       "\n",
       "    .dataframe thead th {\n",
       "        text-align: right;\n",
       "    }\n",
       "</style>\n",
       "<table border=\"1\" class=\"dataframe\">\n",
       "  <thead>\n",
       "    <tr style=\"text-align: right;\">\n",
       "      <th></th>\n",
       "      <th>VIF</th>\n",
       "      <th>Column</th>\n",
       "    </tr>\n",
       "  </thead>\n",
       "  <tbody>\n",
       "    <tr>\n",
       "      <th>1</th>\n",
       "      <td>6.975573</td>\n",
       "      <td>Pclass</td>\n",
       "    </tr>\n",
       "    <tr>\n",
       "      <th>2</th>\n",
       "      <td>4.972732</td>\n",
       "      <td>Age</td>\n",
       "    </tr>\n",
       "    <tr>\n",
       "      <th>7</th>\n",
       "      <td>4.871524</td>\n",
       "      <td>S</td>\n",
       "    </tr>\n",
       "    <tr>\n",
       "      <th>8</th>\n",
       "      <td>3.744810</td>\n",
       "      <td>male</td>\n",
       "    </tr>\n",
       "    <tr>\n",
       "      <th>0</th>\n",
       "      <td>1.954084</td>\n",
       "      <td>Survived</td>\n",
       "    </tr>\n",
       "    <tr>\n",
       "      <th>5</th>\n",
       "      <td>1.891405</td>\n",
       "      <td>Fare</td>\n",
       "    </tr>\n",
       "    <tr>\n",
       "      <th>6</th>\n",
       "      <td>1.628980</td>\n",
       "      <td>Q</td>\n",
       "    </tr>\n",
       "    <tr>\n",
       "      <th>4</th>\n",
       "      <td>1.628686</td>\n",
       "      <td>Parch</td>\n",
       "    </tr>\n",
       "    <tr>\n",
       "      <th>3</th>\n",
       "      <td>1.579991</td>\n",
       "      <td>SibSp</td>\n",
       "    </tr>\n",
       "  </tbody>\n",
       "</table>\n",
       "</div>"
      ],
      "text/plain": [
       "        VIF    Column\n",
       "1  6.975573    Pclass\n",
       "2  4.972732       Age\n",
       "7  4.871524         S\n",
       "8  3.744810      male\n",
       "0  1.954084  Survived\n",
       "5  1.891405      Fare\n",
       "6  1.628980         Q\n",
       "4  1.628686     Parch\n",
       "3  1.579991     SibSp"
      ]
     },
     "execution_count": 169,
     "metadata": {},
     "output_type": "execute_result"
    }
   ],
   "source": [
    "import statsmodels.api as sm\n",
    "from statsmodels.stats.outliers_influence import variance_inflation_factor\n",
    "\n",
    "X = data\n",
    "\n",
    "vif_info = pd.DataFrame()\n",
    "vif_info['VIF'] = [variance_inflation_factor(X.values, i) for i in range(X.shape[1])]\n",
    "vif_info['Column'] = X.columns\n",
    "vif_info.sort_values('VIF', ascending=False)"
   ]
  },
  {
   "cell_type": "code",
   "execution_count": 258,
   "id": "d5ae5e5f",
   "metadata": {},
   "outputs": [
    {
     "data": {
      "text/html": [
       "<div>\n",
       "<style scoped>\n",
       "    .dataframe tbody tr th:only-of-type {\n",
       "        vertical-align: middle;\n",
       "    }\n",
       "\n",
       "    .dataframe tbody tr th {\n",
       "        vertical-align: top;\n",
       "    }\n",
       "\n",
       "    .dataframe thead th {\n",
       "        text-align: right;\n",
       "    }\n",
       "</style>\n",
       "<table border=\"1\" class=\"dataframe\">\n",
       "  <thead>\n",
       "    <tr style=\"text-align: right;\">\n",
       "      <th></th>\n",
       "      <th>y_train</th>\n",
       "      <th>y_pred</th>\n",
       "    </tr>\n",
       "  </thead>\n",
       "  <tbody>\n",
       "    <tr>\n",
       "      <th>0</th>\n",
       "      <td>26.5500</td>\n",
       "      <td>63.067461</td>\n",
       "    </tr>\n",
       "    <tr>\n",
       "      <th>1</th>\n",
       "      <td>76.7292</td>\n",
       "      <td>83.768847</td>\n",
       "    </tr>\n",
       "    <tr>\n",
       "      <th>2</th>\n",
       "      <td>46.9000</td>\n",
       "      <td>51.010173</td>\n",
       "    </tr>\n",
       "    <tr>\n",
       "      <th>3</th>\n",
       "      <td>77.2875</td>\n",
       "      <td>70.447469</td>\n",
       "    </tr>\n",
       "    <tr>\n",
       "      <th>4</th>\n",
       "      <td>14.4583</td>\n",
       "      <td>19.691713</td>\n",
       "    </tr>\n",
       "    <tr>\n",
       "      <th>...</th>\n",
       "      <td>...</td>\n",
       "      <td>...</td>\n",
       "    </tr>\n",
       "    <tr>\n",
       "      <th>618</th>\n",
       "      <td>83.1583</td>\n",
       "      <td>94.885793</td>\n",
       "    </tr>\n",
       "    <tr>\n",
       "      <th>619</th>\n",
       "      <td>7.8542</td>\n",
       "      <td>6.908456</td>\n",
       "    </tr>\n",
       "    <tr>\n",
       "      <th>620</th>\n",
       "      <td>7.7333</td>\n",
       "      <td>4.713558</td>\n",
       "    </tr>\n",
       "    <tr>\n",
       "      <th>621</th>\n",
       "      <td>17.4000</td>\n",
       "      <td>5.956385</td>\n",
       "    </tr>\n",
       "    <tr>\n",
       "      <th>622</th>\n",
       "      <td>39.0000</td>\n",
       "      <td>44.896062</td>\n",
       "    </tr>\n",
       "  </tbody>\n",
       "</table>\n",
       "<p>623 rows × 2 columns</p>\n",
       "</div>"
      ],
      "text/plain": [
       "     y_train     y_pred\n",
       "0    26.5500  63.067461\n",
       "1    76.7292  83.768847\n",
       "2    46.9000  51.010173\n",
       "3    77.2875  70.447469\n",
       "4    14.4583  19.691713\n",
       "..       ...        ...\n",
       "618  83.1583  94.885793\n",
       "619   7.8542   6.908456\n",
       "620   7.7333   4.713558\n",
       "621  17.4000   5.956385\n",
       "622  39.0000  44.896062\n",
       "\n",
       "[623 rows x 2 columns]"
      ]
     },
     "execution_count": 258,
     "metadata": {},
     "output_type": "execute_result"
    }
   ],
   "source": [
    "y_pred = model.predict(X_train)\n",
    "df = pd.DataFrame(data = y_train ,columns =['y_train'])\n",
    "df['y_pred'] = y_pred\n",
    "df"
   ]
  },
  {
   "cell_type": "code",
   "execution_count": 178,
   "id": "79a87c26",
   "metadata": {},
   "outputs": [
    {
     "name": "stdout",
     "output_type": "stream",
     "text": [
      "MSE: 1426.47\n",
      "RMSE: 37.77\n",
      "R^2: 0.39\n"
     ]
    }
   ],
   "source": [
    "from sklearn.metrics import mean_squared_error,r2_score\n",
    "print('MSE: %.2f' % mean_squared_error(y_train, y_pred))\n",
    "print('RMSE: %.2f' % np.sqrt(mean_squared_error(y_train, y_pred)))\n",
    "print('R^2: %.2f' % r2_score(y_train, y_pred))\n"
   ]
  },
  {
   "cell_type": "code",
   "execution_count": 179,
   "id": "68f3c257",
   "metadata": {},
   "outputs": [],
   "source": [
    "y_predict = model.predict(X_test)"
   ]
  },
  {
   "cell_type": "code",
   "execution_count": 180,
   "id": "351c705a",
   "metadata": {},
   "outputs": [
    {
     "data": {
      "text/html": [
       "<div>\n",
       "<style scoped>\n",
       "    .dataframe tbody tr th:only-of-type {\n",
       "        vertical-align: middle;\n",
       "    }\n",
       "\n",
       "    .dataframe tbody tr th {\n",
       "        vertical-align: top;\n",
       "    }\n",
       "\n",
       "    .dataframe thead th {\n",
       "        text-align: right;\n",
       "    }\n",
       "</style>\n",
       "<table border=\"1\" class=\"dataframe\">\n",
       "  <thead>\n",
       "    <tr style=\"text-align: right;\">\n",
       "      <th></th>\n",
       "      <th>y_test</th>\n",
       "      <th>y_predict</th>\n",
       "    </tr>\n",
       "  </thead>\n",
       "  <tbody>\n",
       "    <tr>\n",
       "      <th>0</th>\n",
       "      <td>14.4583</td>\n",
       "      <td>15.566526</td>\n",
       "    </tr>\n",
       "    <tr>\n",
       "      <th>1</th>\n",
       "      <td>7.5500</td>\n",
       "      <td>-0.897664</td>\n",
       "    </tr>\n",
       "    <tr>\n",
       "      <th>2</th>\n",
       "      <td>29.1250</td>\n",
       "      <td>39.905685</td>\n",
       "    </tr>\n",
       "    <tr>\n",
       "      <th>3</th>\n",
       "      <td>146.5208</td>\n",
       "      <td>84.776922</td>\n",
       "    </tr>\n",
       "    <tr>\n",
       "      <th>4</th>\n",
       "      <td>15.2458</td>\n",
       "      <td>38.103634</td>\n",
       "    </tr>\n",
       "    <tr>\n",
       "      <th>...</th>\n",
       "      <td>...</td>\n",
       "      <td>...</td>\n",
       "    </tr>\n",
       "    <tr>\n",
       "      <th>263</th>\n",
       "      <td>0.0000</td>\n",
       "      <td>60.674623</td>\n",
       "    </tr>\n",
       "    <tr>\n",
       "      <th>264</th>\n",
       "      <td>15.5000</td>\n",
       "      <td>4.713558</td>\n",
       "    </tr>\n",
       "    <tr>\n",
       "      <th>265</th>\n",
       "      <td>14.4542</td>\n",
       "      <td>21.613324</td>\n",
       "    </tr>\n",
       "    <tr>\n",
       "      <th>266</th>\n",
       "      <td>7.4958</td>\n",
       "      <td>1.141680</td>\n",
       "    </tr>\n",
       "    <tr>\n",
       "      <th>267</th>\n",
       "      <td>27.7208</td>\n",
       "      <td>77.642851</td>\n",
       "    </tr>\n",
       "  </tbody>\n",
       "</table>\n",
       "<p>268 rows × 2 columns</p>\n",
       "</div>"
      ],
      "text/plain": [
       "       y_test  y_predict\n",
       "0     14.4583  15.566526\n",
       "1      7.5500  -0.897664\n",
       "2     29.1250  39.905685\n",
       "3    146.5208  84.776922\n",
       "4     15.2458  38.103634\n",
       "..        ...        ...\n",
       "263    0.0000  60.674623\n",
       "264   15.5000   4.713558\n",
       "265   14.4542  21.613324\n",
       "266    7.4958   1.141680\n",
       "267   27.7208  77.642851\n",
       "\n",
       "[268 rows x 2 columns]"
      ]
     },
     "execution_count": 180,
     "metadata": {},
     "output_type": "execute_result"
    }
   ],
   "source": [
    "df = pd.DataFrame(data = y_test ,columns =['y_test'])\n",
    "df['y_predict'] = y_predict\n",
    "df"
   ]
  },
  {
   "cell_type": "code",
   "execution_count": 261,
   "id": "178231ca",
   "metadata": {},
   "outputs": [
    {
     "name": "stdout",
     "output_type": "stream",
     "text": [
      "MSE: 1712.92\n",
      "RMSE: 41.39\n",
      "R^2: 0.39\n"
     ]
    }
   ],
   "source": [
    "from sklearn.metrics import mean_squared_error,r2_score\n",
    "print('MSE: %.2f' % mean_squared_error(y_test, y_predict))\n",
    "print('RMSE: %.2f' % np.sqrt(mean_squared_error(y_test, y_predict)))\n",
    "print('R^2: %.2f' % r2_score(y_test, y_predict))"
   ]
  },
  {
   "cell_type": "code",
   "execution_count": 265,
   "id": "1d9a2401",
   "metadata": {},
   "outputs": [
    {
     "data": {
      "text/html": [
       "<table class=\"simpletable\">\n",
       "<caption>OLS Regression Results</caption>\n",
       "<tr>\n",
       "  <th>Dep. Variable:</th>            <td>y</td>        <th>  R-squared:         </th> <td>   0.426</td>\n",
       "</tr>\n",
       "<tr>\n",
       "  <th>Model:</th>                   <td>OLS</td>       <th>  Adj. R-squared:    </th> <td>   0.408</td>\n",
       "</tr>\n",
       "<tr>\n",
       "  <th>Method:</th>             <td>Least Squares</td>  <th>  F-statistic:       </th> <td>   24.02</td>\n",
       "</tr>\n",
       "<tr>\n",
       "  <th>Date:</th>             <td>Thu, 08 Sep 2022</td> <th>  Prob (F-statistic):</th> <td>1.84e-27</td>\n",
       "</tr>\n",
       "<tr>\n",
       "  <th>Time:</th>                 <td>00:46:34</td>     <th>  Log-Likelihood:    </th> <td> -1369.3</td>\n",
       "</tr>\n",
       "<tr>\n",
       "  <th>No. Observations:</th>      <td>   268</td>      <th>  AIC:               </th> <td>   2757.</td>\n",
       "</tr>\n",
       "<tr>\n",
       "  <th>Df Residuals:</th>          <td>   259</td>      <th>  BIC:               </th> <td>   2789.</td>\n",
       "</tr>\n",
       "<tr>\n",
       "  <th>Df Model:</th>              <td>     8</td>      <th>                     </th>     <td> </td>   \n",
       "</tr>\n",
       "<tr>\n",
       "  <th>Covariance Type:</th>      <td>nonrobust</td>    <th>                     </th>     <td> </td>   \n",
       "</tr>\n",
       "</table>\n",
       "<table class=\"simpletable\">\n",
       "<tr>\n",
       "    <td></td>       <th>coef</th>     <th>std err</th>      <th>t</th>      <th>P>|t|</th>  <th>[0.025</th>    <th>0.975]</th>  \n",
       "</tr>\n",
       "<tr>\n",
       "  <th>const</th> <td>  131.0779</td> <td>   15.711</td> <td>    8.343</td> <td> 0.000</td> <td>  100.140</td> <td>  162.016</td>\n",
       "</tr>\n",
       "<tr>\n",
       "  <th>x1</th>    <td>    3.1327</td> <td>    6.661</td> <td>    0.470</td> <td> 0.639</td> <td>   -9.983</td> <td>   16.249</td>\n",
       "</tr>\n",
       "<tr>\n",
       "  <th>x2</th>    <td>  -32.8989</td> <td>    3.699</td> <td>   -8.893</td> <td> 0.000</td> <td>  -40.183</td> <td>  -25.614</td>\n",
       "</tr>\n",
       "<tr>\n",
       "  <th>x3</th>    <td>   -0.1485</td> <td>    0.223</td> <td>   -0.665</td> <td> 0.507</td> <td>   -0.588</td> <td>    0.291</td>\n",
       "</tr>\n",
       "<tr>\n",
       "  <th>x4</th>    <td>    7.9937</td> <td>    3.008</td> <td>    2.657</td> <td> 0.008</td> <td>    2.070</td> <td>   13.918</td>\n",
       "</tr>\n",
       "<tr>\n",
       "  <th>x5</th>    <td>    7.3457</td> <td>    3.915</td> <td>    1.876</td> <td> 0.062</td> <td>   -0.364</td> <td>   15.056</td>\n",
       "</tr>\n",
       "<tr>\n",
       "  <th>x6</th>    <td>  -12.4051</td> <td>    6.464</td> <td>   -1.919</td> <td> 0.056</td> <td>  -25.134</td> <td>    0.323</td>\n",
       "</tr>\n",
       "<tr>\n",
       "  <th>x7</th>    <td>  -14.8000</td> <td>   10.959</td> <td>   -1.351</td> <td> 0.178</td> <td>  -36.379</td> <td>    6.779</td>\n",
       "</tr>\n",
       "<tr>\n",
       "  <th>x8</th>    <td>  -23.3710</td> <td>    6.304</td> <td>   -3.707</td> <td> 0.000</td> <td>  -35.784</td> <td>  -10.958</td>\n",
       "</tr>\n",
       "</table>\n",
       "<table class=\"simpletable\">\n",
       "<tr>\n",
       "  <th>Omnibus:</th>       <td>320.451</td> <th>  Durbin-Watson:     </th> <td>   2.100</td> \n",
       "</tr>\n",
       "<tr>\n",
       "  <th>Prob(Omnibus):</th> <td> 0.000</td>  <th>  Jarque-Bera (JB):  </th> <td>23088.680</td>\n",
       "</tr>\n",
       "<tr>\n",
       "  <th>Skew:</th>          <td> 5.077</td>  <th>  Prob(JB):          </th> <td>    0.00</td> \n",
       "</tr>\n",
       "<tr>\n",
       "  <th>Kurtosis:</th>      <td>47.323</td>  <th>  Cond. No.          </th> <td>    218.</td> \n",
       "</tr>\n",
       "</table><br/><br/>Notes:<br/>[1] Standard Errors assume that the covariance matrix of the errors is correctly specified."
      ],
      "text/plain": [
       "<class 'statsmodels.iolib.summary.Summary'>\n",
       "\"\"\"\n",
       "                            OLS Regression Results                            \n",
       "==============================================================================\n",
       "Dep. Variable:                      y   R-squared:                       0.426\n",
       "Model:                            OLS   Adj. R-squared:                  0.408\n",
       "Method:                 Least Squares   F-statistic:                     24.02\n",
       "Date:                Thu, 08 Sep 2022   Prob (F-statistic):           1.84e-27\n",
       "Time:                        00:46:34   Log-Likelihood:                -1369.3\n",
       "No. Observations:                 268   AIC:                             2757.\n",
       "Df Residuals:                     259   BIC:                             2789.\n",
       "Df Model:                           8                                         \n",
       "Covariance Type:            nonrobust                                         \n",
       "==============================================================================\n",
       "                 coef    std err          t      P>|t|      [0.025      0.975]\n",
       "------------------------------------------------------------------------------\n",
       "const        131.0779     15.711      8.343      0.000     100.140     162.016\n",
       "x1             3.1327      6.661      0.470      0.639      -9.983      16.249\n",
       "x2           -32.8989      3.699     -8.893      0.000     -40.183     -25.614\n",
       "x3            -0.1485      0.223     -0.665      0.507      -0.588       0.291\n",
       "x4             7.9937      3.008      2.657      0.008       2.070      13.918\n",
       "x5             7.3457      3.915      1.876      0.062      -0.364      15.056\n",
       "x6           -12.4051      6.464     -1.919      0.056     -25.134       0.323\n",
       "x7           -14.8000     10.959     -1.351      0.178     -36.379       6.779\n",
       "x8           -23.3710      6.304     -3.707      0.000     -35.784     -10.958\n",
       "==============================================================================\n",
       "Omnibus:                      320.451   Durbin-Watson:                   2.100\n",
       "Prob(Omnibus):                  0.000   Jarque-Bera (JB):            23088.680\n",
       "Skew:                           5.077   Prob(JB):                         0.00\n",
       "Kurtosis:                      47.323   Cond. No.                         218.\n",
       "==============================================================================\n",
       "\n",
       "Notes:\n",
       "[1] Standard Errors assume that the covariance matrix of the errors is correctly specified.\n",
       "\"\"\""
      ]
     },
     "execution_count": 265,
     "metadata": {},
     "output_type": "execute_result"
    }
   ],
   "source": [
    "import statsmodels.api as sm\n",
    "X_with_constant = sm.add_constant(X_test)\n",
    "model = sm.OLS(y_test, X_with_constant)\n",
    "results = model.fit()\n",
    "results.params\n",
    "results.summary()"
   ]
  },
  {
   "cell_type": "markdown",
   "id": "edbe724c",
   "metadata": {},
   "source": [
    "# Standardization"
   ]
  },
  {
   "cell_type": "code",
   "execution_count": 266,
   "id": "ad6f8622",
   "metadata": {},
   "outputs": [],
   "source": [
    "from sklearn.preprocessing import StandardScaler\n",
    "sc_X = StandardScaler()\n",
    "X_strain = sc_X.fit_transform(X_train)\n",
    "X_stest = sc_X.transform(X_test)\n",
    "sc_y = StandardScaler()\n",
    "y_strain = sc_y.fit_transform(y_train)\n",
    "y_stest = sc_y.transform(y_test)"
   ]
  },
  {
   "cell_type": "code",
   "execution_count": 267,
   "id": "d59411ff",
   "metadata": {},
   "outputs": [
    {
     "name": "stdout",
     "output_type": "stream",
     "text": [
      "[[ 0.03041376 -0.5406902  -0.0151179   0.14031466  0.18202802  0.01673701\n",
      "  -0.06437669 -0.15037069]]\n",
      "[9.58840704e-17]\n"
     ]
    }
   ],
   "source": [
    "#using sklearn method\n",
    "from sklearn import linear_model\n",
    "model = linear_model.LinearRegression()\n",
    "model.fit(X_strain,y_strain)\n",
    "print(model.coef_)\n",
    "print(model.intercept_)"
   ]
  },
  {
   "cell_type": "code",
   "execution_count": 268,
   "id": "e79ead29",
   "metadata": {},
   "outputs": [],
   "source": [
    "y_pred = model.predict(X_strain)"
   ]
  },
  {
   "cell_type": "code",
   "execution_count": 269,
   "id": "bbaf3d9b",
   "metadata": {},
   "outputs": [
    {
     "name": "stdout",
     "output_type": "stream",
     "text": [
      "MSE: 0.61\n",
      "RMSE: 0.78\n",
      "R^2: 0.39\n"
     ]
    }
   ],
   "source": [
    "from sklearn.metrics import mean_squared_error,r2_score\n",
    "print('MSE: %.2f' % mean_squared_error(y_strain, y_pred))\n",
    "print('RMSE: %.2f' % np.sqrt(mean_squared_error(y_strain, y_pred)))\n",
    "print('R^2: %.2f' % r2_score(y_strain, y_pred))"
   ]
  },
  {
   "cell_type": "code",
   "execution_count": 270,
   "id": "eb5163e8",
   "metadata": {},
   "outputs": [],
   "source": [
    "test_predict = model.predict(X_stest)"
   ]
  },
  {
   "cell_type": "code",
   "execution_count": 271,
   "id": "5a93034a",
   "metadata": {},
   "outputs": [],
   "source": [
    "test_actual = y_stest"
   ]
  },
  {
   "cell_type": "code",
   "execution_count": 272,
   "id": "87857a54",
   "metadata": {},
   "outputs": [
    {
     "name": "stdout",
     "output_type": "stream",
     "text": [
      "MSE: 0.72\n",
      "RMSE: 0.85\n",
      "R^2: 0.40\n"
     ]
    }
   ],
   "source": [
    "print('MSE: %.2f' % mean_squared_error(test_actual, test_predict))\n",
    "print('RMSE: %.2f' % np.sqrt(mean_squared_error(test_actual, test_predict)))\n",
    "print('R^2: %.2f' % r2_score(test_actual, test_predict))"
   ]
  },
  {
   "cell_type": "code",
   "execution_count": 273,
   "id": "87ad9efa",
   "metadata": {},
   "outputs": [
    {
     "data": {
      "text/html": [
       "<table class=\"simpletable\">\n",
       "<caption>OLS Regression Results</caption>\n",
       "<tr>\n",
       "  <th>Dep. Variable:</th>            <td>y</td>        <th>  R-squared:         </th> <td>   0.386</td>\n",
       "</tr>\n",
       "<tr>\n",
       "  <th>Model:</th>                   <td>OLS</td>       <th>  Adj. R-squared:    </th> <td>   0.378</td>\n",
       "</tr>\n",
       "<tr>\n",
       "  <th>Method:</th>             <td>Least Squares</td>  <th>  F-statistic:       </th> <td>   48.35</td>\n",
       "</tr>\n",
       "<tr>\n",
       "  <th>Date:</th>             <td>Thu, 08 Sep 2022</td> <th>  Prob (F-statistic):</th> <td>2.10e-60</td>\n",
       "</tr>\n",
       "<tr>\n",
       "  <th>Time:</th>                 <td>00:47:29</td>     <th>  Log-Likelihood:    </th> <td> -3146.4</td>\n",
       "</tr>\n",
       "<tr>\n",
       "  <th>No. Observations:</th>      <td>   623</td>      <th>  AIC:               </th> <td>   6311.</td>\n",
       "</tr>\n",
       "<tr>\n",
       "  <th>Df Residuals:</th>          <td>   614</td>      <th>  BIC:               </th> <td>   6351.</td>\n",
       "</tr>\n",
       "<tr>\n",
       "  <th>Df Model:</th>              <td>     8</td>      <th>                     </th>     <td> </td>   \n",
       "</tr>\n",
       "<tr>\n",
       "  <th>Covariance Type:</th>      <td>nonrobust</td>    <th>                     </th>     <td> </td>   \n",
       "</tr>\n",
       "</table>\n",
       "<table class=\"simpletable\">\n",
       "<tr>\n",
       "    <td></td>       <th>coef</th>     <th>std err</th>      <th>t</th>      <th>P>|t|</th>  <th>[0.025</th>    <th>0.975]</th>  \n",
       "</tr>\n",
       "<tr>\n",
       "  <th>const</th> <td>  108.7195</td> <td>    9.260</td> <td>   11.740</td> <td> 0.000</td> <td>   90.533</td> <td>  126.906</td>\n",
       "</tr>\n",
       "<tr>\n",
       "  <th>x1</th>    <td>    3.0089</td> <td>    4.029</td> <td>    0.747</td> <td> 0.455</td> <td>   -4.903</td> <td>   10.921</td>\n",
       "</tr>\n",
       "<tr>\n",
       "  <th>x2</th>    <td>  -31.0382</td> <td>    2.169</td> <td>  -14.308</td> <td> 0.000</td> <td>  -35.298</td> <td>  -26.778</td>\n",
       "</tr>\n",
       "<tr>\n",
       "  <th>x3</th>    <td>   -0.0560</td> <td>    0.129</td> <td>   -0.433</td> <td> 0.665</td> <td>   -0.310</td> <td>    0.198</td>\n",
       "</tr>\n",
       "<tr>\n",
       "  <th>x4</th>    <td>    5.8228</td> <td>    1.473</td> <td>    3.953</td> <td> 0.000</td> <td>    2.930</td> <td>    8.715</td>\n",
       "</tr>\n",
       "<tr>\n",
       "  <th>x5</th>    <td>   10.5569</td> <td>    2.069</td> <td>    5.102</td> <td> 0.000</td> <td>    6.493</td> <td>   14.621</td>\n",
       "</tr>\n",
       "<tr>\n",
       "  <th>x6</th>    <td>    1.6976</td> <td>    3.966</td> <td>    0.428</td> <td> 0.669</td> <td>   -6.090</td> <td>    9.485</td>\n",
       "</tr>\n",
       "<tr>\n",
       "  <th>x7</th>    <td>  -10.8530</td> <td>    6.624</td> <td>   -1.638</td> <td> 0.102</td> <td>  -23.862</td> <td>    2.156</td>\n",
       "</tr>\n",
       "<tr>\n",
       "  <th>x8</th>    <td>  -16.4642</td> <td>    4.190</td> <td>   -3.929</td> <td> 0.000</td> <td>  -24.693</td> <td>   -8.236</td>\n",
       "</tr>\n",
       "</table>\n",
       "<table class=\"simpletable\">\n",
       "<tr>\n",
       "  <th>Omnibus:</th>       <td>743.523</td> <th>  Durbin-Watson:     </th> <td>   1.975</td> \n",
       "</tr>\n",
       "<tr>\n",
       "  <th>Prob(Omnibus):</th> <td> 0.000</td>  <th>  Jarque-Bera (JB):  </th> <td>79794.587</td>\n",
       "</tr>\n",
       "<tr>\n",
       "  <th>Skew:</th>          <td> 5.726</td>  <th>  Prob(JB):          </th> <td>    0.00</td> \n",
       "</tr>\n",
       "<tr>\n",
       "  <th>Kurtosis:</th>      <td>57.247</td>  <th>  Cond. No.          </th> <td>    216.</td> \n",
       "</tr>\n",
       "</table><br/><br/>Notes:<br/>[1] Standard Errors assume that the covariance matrix of the errors is correctly specified."
      ],
      "text/plain": [
       "<class 'statsmodels.iolib.summary.Summary'>\n",
       "\"\"\"\n",
       "                            OLS Regression Results                            \n",
       "==============================================================================\n",
       "Dep. Variable:                      y   R-squared:                       0.386\n",
       "Model:                            OLS   Adj. R-squared:                  0.378\n",
       "Method:                 Least Squares   F-statistic:                     48.35\n",
       "Date:                Thu, 08 Sep 2022   Prob (F-statistic):           2.10e-60\n",
       "Time:                        00:47:29   Log-Likelihood:                -3146.4\n",
       "No. Observations:                 623   AIC:                             6311.\n",
       "Df Residuals:                     614   BIC:                             6351.\n",
       "Df Model:                           8                                         \n",
       "Covariance Type:            nonrobust                                         \n",
       "==============================================================================\n",
       "                 coef    std err          t      P>|t|      [0.025      0.975]\n",
       "------------------------------------------------------------------------------\n",
       "const        108.7195      9.260     11.740      0.000      90.533     126.906\n",
       "x1             3.0089      4.029      0.747      0.455      -4.903      10.921\n",
       "x2           -31.0382      2.169    -14.308      0.000     -35.298     -26.778\n",
       "x3            -0.0560      0.129     -0.433      0.665      -0.310       0.198\n",
       "x4             5.8228      1.473      3.953      0.000       2.930       8.715\n",
       "x5            10.5569      2.069      5.102      0.000       6.493      14.621\n",
       "x6             1.6976      3.966      0.428      0.669      -6.090       9.485\n",
       "x7           -10.8530      6.624     -1.638      0.102     -23.862       2.156\n",
       "x8           -16.4642      4.190     -3.929      0.000     -24.693      -8.236\n",
       "==============================================================================\n",
       "Omnibus:                      743.523   Durbin-Watson:                   1.975\n",
       "Prob(Omnibus):                  0.000   Jarque-Bera (JB):            79794.587\n",
       "Skew:                           5.726   Prob(JB):                         0.00\n",
       "Kurtosis:                      57.247   Cond. No.                         216.\n",
       "==============================================================================\n",
       "\n",
       "Notes:\n",
       "[1] Standard Errors assume that the covariance matrix of the errors is correctly specified.\n",
       "\"\"\""
      ]
     },
     "execution_count": 273,
     "metadata": {},
     "output_type": "execute_result"
    }
   ],
   "source": [
    "import statsmodels.api as sm\n",
    "X_with_constant = sm.add_constant(X_train)\n",
    "model = sm.OLS(y_train, X_with_constant)\n",
    "results = model.fit()\n",
    "results.params\n",
    "results.summary()"
   ]
  },
  {
   "cell_type": "markdown",
   "id": "336e9c7a",
   "metadata": {},
   "source": [
    "## Normalization"
   ]
  },
  {
   "cell_type": "code",
   "execution_count": 274,
   "id": "e65d176f",
   "metadata": {},
   "outputs": [],
   "source": [
    "from sklearn.preprocessing import MinMaxScaler\n",
    "# define min max scaler\n",
    "sc_X = MinMaxScaler()\n",
    "X_ntrain = sc_X.fit_transform(X_train)\n",
    "X_ntest = sc_X.transform(X_test)\n",
    "sc_y = MinMaxScaler()\n",
    "y_ntrain = sc_y.fit_transform(y_train)\n",
    "y_ntest = sc_y.transform(y_test)"
   ]
  },
  {
   "cell_type": "code",
   "execution_count": 275,
   "id": "a882ec24",
   "metadata": {},
   "outputs": [
    {
     "name": "stdout",
     "output_type": "stream",
     "text": [
      "[[ 0.00587295 -0.12116492 -0.00867179  0.09092249  0.12363423  0.00331348\n",
      "  -0.02118358 -0.03213596]]\n",
      "[0.15155073]\n"
     ]
    }
   ],
   "source": [
    "#using sklearn method\n",
    "from sklearn import linear_model\n",
    "reg = linear_model.LinearRegression()\n",
    "reg.fit(X_ntrain,y_ntrain)\n",
    "print(reg.coef_)\n",
    "print(reg.intercept_)"
   ]
  },
  {
   "cell_type": "code",
   "execution_count": 276,
   "id": "bf166e76",
   "metadata": {},
   "outputs": [],
   "source": [
    "y_pred = reg.predict(X_ntrain)"
   ]
  },
  {
   "cell_type": "code",
   "execution_count": 277,
   "id": "cfff16d1",
   "metadata": {},
   "outputs": [
    {
     "name": "stdout",
     "output_type": "stream",
     "text": [
      "MSE: 0.01\n",
      "RMSE: 0.07\n",
      "R^2: 0.39\n"
     ]
    }
   ],
   "source": [
    "from sklearn.metrics import mean_squared_error,r2_score\n",
    "print('MSE: %.2f' % mean_squared_error(y_ntrain, y_pred))\n",
    "print('RMSE: %.2f' % np.sqrt(mean_squared_error(y_ntrain, y_pred)))\n",
    "print('R^2: %.2f' % r2_score(y_ntrain, y_pred))"
   ]
  },
  {
   "cell_type": "code",
   "execution_count": 278,
   "id": "ed878f8c",
   "metadata": {},
   "outputs": [],
   "source": [
    "y_predict = reg.predict(X_ntest)"
   ]
  },
  {
   "cell_type": "code",
   "execution_count": 279,
   "id": "e18d7ae3",
   "metadata": {},
   "outputs": [
    {
     "name": "stdout",
     "output_type": "stream",
     "text": [
      "MSE: 0.01\n",
      "RMSE: 0.08\n",
      "R^2: 0.40\n"
     ]
    }
   ],
   "source": [
    "from sklearn.metrics import mean_squared_error,r2_score\n",
    "print('MSE: %.2f' % mean_squared_error(y_ntest, y_predict))\n",
    "print('RMSE: %.2f' % np.sqrt(mean_squared_error(y_ntest, y_predict)))\n",
    "print('R^2: %.2f' % r2_score(y_ntest, y_predict))"
   ]
  },
  {
   "cell_type": "code",
   "execution_count": 280,
   "id": "bcd73923",
   "metadata": {},
   "outputs": [
    {
     "data": {
      "text/html": [
       "<table class=\"simpletable\">\n",
       "<caption>OLS Regression Results</caption>\n",
       "<tr>\n",
       "  <th>Dep. Variable:</th>            <td>y</td>        <th>  R-squared:         </th> <td>   0.426</td>\n",
       "</tr>\n",
       "<tr>\n",
       "  <th>Model:</th>                   <td>OLS</td>       <th>  Adj. R-squared:    </th> <td>   0.408</td>\n",
       "</tr>\n",
       "<tr>\n",
       "  <th>Method:</th>             <td>Least Squares</td>  <th>  F-statistic:       </th> <td>   24.02</td>\n",
       "</tr>\n",
       "<tr>\n",
       "  <th>Date:</th>             <td>Thu, 08 Sep 2022</td> <th>  Prob (F-statistic):</th> <td>1.84e-27</td>\n",
       "</tr>\n",
       "<tr>\n",
       "  <th>Time:</th>                 <td>00:49:50</td>     <th>  Log-Likelihood:    </th> <td> -1369.3</td>\n",
       "</tr>\n",
       "<tr>\n",
       "  <th>No. Observations:</th>      <td>   268</td>      <th>  AIC:               </th> <td>   2757.</td>\n",
       "</tr>\n",
       "<tr>\n",
       "  <th>Df Residuals:</th>          <td>   259</td>      <th>  BIC:               </th> <td>   2789.</td>\n",
       "</tr>\n",
       "<tr>\n",
       "  <th>Df Model:</th>              <td>     8</td>      <th>                     </th>     <td> </td>   \n",
       "</tr>\n",
       "<tr>\n",
       "  <th>Covariance Type:</th>      <td>nonrobust</td>    <th>                     </th>     <td> </td>   \n",
       "</tr>\n",
       "</table>\n",
       "<table class=\"simpletable\">\n",
       "<tr>\n",
       "    <td></td>       <th>coef</th>     <th>std err</th>      <th>t</th>      <th>P>|t|</th>  <th>[0.025</th>    <th>0.975]</th>  \n",
       "</tr>\n",
       "<tr>\n",
       "  <th>const</th> <td>  131.0779</td> <td>   15.711</td> <td>    8.343</td> <td> 0.000</td> <td>  100.140</td> <td>  162.016</td>\n",
       "</tr>\n",
       "<tr>\n",
       "  <th>x1</th>    <td>    3.1327</td> <td>    6.661</td> <td>    0.470</td> <td> 0.639</td> <td>   -9.983</td> <td>   16.249</td>\n",
       "</tr>\n",
       "<tr>\n",
       "  <th>x2</th>    <td>  -32.8989</td> <td>    3.699</td> <td>   -8.893</td> <td> 0.000</td> <td>  -40.183</td> <td>  -25.614</td>\n",
       "</tr>\n",
       "<tr>\n",
       "  <th>x3</th>    <td>   -0.1485</td> <td>    0.223</td> <td>   -0.665</td> <td> 0.507</td> <td>   -0.588</td> <td>    0.291</td>\n",
       "</tr>\n",
       "<tr>\n",
       "  <th>x4</th>    <td>    7.9937</td> <td>    3.008</td> <td>    2.657</td> <td> 0.008</td> <td>    2.070</td> <td>   13.918</td>\n",
       "</tr>\n",
       "<tr>\n",
       "  <th>x5</th>    <td>    7.3457</td> <td>    3.915</td> <td>    1.876</td> <td> 0.062</td> <td>   -0.364</td> <td>   15.056</td>\n",
       "</tr>\n",
       "<tr>\n",
       "  <th>x6</th>    <td>  -12.4051</td> <td>    6.464</td> <td>   -1.919</td> <td> 0.056</td> <td>  -25.134</td> <td>    0.323</td>\n",
       "</tr>\n",
       "<tr>\n",
       "  <th>x7</th>    <td>  -14.8000</td> <td>   10.959</td> <td>   -1.351</td> <td> 0.178</td> <td>  -36.379</td> <td>    6.779</td>\n",
       "</tr>\n",
       "<tr>\n",
       "  <th>x8</th>    <td>  -23.3710</td> <td>    6.304</td> <td>   -3.707</td> <td> 0.000</td> <td>  -35.784</td> <td>  -10.958</td>\n",
       "</tr>\n",
       "</table>\n",
       "<table class=\"simpletable\">\n",
       "<tr>\n",
       "  <th>Omnibus:</th>       <td>320.451</td> <th>  Durbin-Watson:     </th> <td>   2.100</td> \n",
       "</tr>\n",
       "<tr>\n",
       "  <th>Prob(Omnibus):</th> <td> 0.000</td>  <th>  Jarque-Bera (JB):  </th> <td>23088.680</td>\n",
       "</tr>\n",
       "<tr>\n",
       "  <th>Skew:</th>          <td> 5.077</td>  <th>  Prob(JB):          </th> <td>    0.00</td> \n",
       "</tr>\n",
       "<tr>\n",
       "  <th>Kurtosis:</th>      <td>47.323</td>  <th>  Cond. No.          </th> <td>    218.</td> \n",
       "</tr>\n",
       "</table><br/><br/>Notes:<br/>[1] Standard Errors assume that the covariance matrix of the errors is correctly specified."
      ],
      "text/plain": [
       "<class 'statsmodels.iolib.summary.Summary'>\n",
       "\"\"\"\n",
       "                            OLS Regression Results                            \n",
       "==============================================================================\n",
       "Dep. Variable:                      y   R-squared:                       0.426\n",
       "Model:                            OLS   Adj. R-squared:                  0.408\n",
       "Method:                 Least Squares   F-statistic:                     24.02\n",
       "Date:                Thu, 08 Sep 2022   Prob (F-statistic):           1.84e-27\n",
       "Time:                        00:49:50   Log-Likelihood:                -1369.3\n",
       "No. Observations:                 268   AIC:                             2757.\n",
       "Df Residuals:                     259   BIC:                             2789.\n",
       "Df Model:                           8                                         \n",
       "Covariance Type:            nonrobust                                         \n",
       "==============================================================================\n",
       "                 coef    std err          t      P>|t|      [0.025      0.975]\n",
       "------------------------------------------------------------------------------\n",
       "const        131.0779     15.711      8.343      0.000     100.140     162.016\n",
       "x1             3.1327      6.661      0.470      0.639      -9.983      16.249\n",
       "x2           -32.8989      3.699     -8.893      0.000     -40.183     -25.614\n",
       "x3            -0.1485      0.223     -0.665      0.507      -0.588       0.291\n",
       "x4             7.9937      3.008      2.657      0.008       2.070      13.918\n",
       "x5             7.3457      3.915      1.876      0.062      -0.364      15.056\n",
       "x6           -12.4051      6.464     -1.919      0.056     -25.134       0.323\n",
       "x7           -14.8000     10.959     -1.351      0.178     -36.379       6.779\n",
       "x8           -23.3710      6.304     -3.707      0.000     -35.784     -10.958\n",
       "==============================================================================\n",
       "Omnibus:                      320.451   Durbin-Watson:                   2.100\n",
       "Prob(Omnibus):                  0.000   Jarque-Bera (JB):            23088.680\n",
       "Skew:                           5.077   Prob(JB):                         0.00\n",
       "Kurtosis:                      47.323   Cond. No.                         218.\n",
       "==============================================================================\n",
       "\n",
       "Notes:\n",
       "[1] Standard Errors assume that the covariance matrix of the errors is correctly specified.\n",
       "\"\"\""
      ]
     },
     "execution_count": 280,
     "metadata": {},
     "output_type": "execute_result"
    }
   ],
   "source": [
    "import statsmodels.api as sm\n",
    "X_with_constant = sm.add_constant(X_test)\n",
    "model = sm.OLS(y_test, X_with_constant)\n",
    "results = model.fit()\n",
    "results.params\n",
    "results.summary()"
   ]
  },
  {
   "cell_type": "markdown",
   "id": "321f23fc",
   "metadata": {},
   "source": [
    "## Lasso"
   ]
  },
  {
   "cell_type": "code",
   "execution_count": 228,
   "id": "3f3f0d18",
   "metadata": {},
   "outputs": [],
   "source": [
    "# Using Lasso (L1 Regularized) Regression Model\n",
    "from sklearn import linear_model\n",
    "lasso_reg = linear_model.Lasso(alpha=50, max_iter=100, tol=0.1)\n",
    "lasso_reg.fit(X_train, y_train)\n",
    "y_pred = lasso_reg.predict(X_train)"
   ]
  },
  {
   "cell_type": "code",
   "execution_count": 229,
   "id": "11d0954c",
   "metadata": {},
   "outputs": [
    {
     "name": "stdout",
     "output_type": "stream",
     "text": [
      "2317.603242423995\n",
      "48.14149190068786\n",
      "0.0032086419621270013\n"
     ]
    }
   ],
   "source": [
    "print(mean_squared_error(y_train,y_pred))\n",
    "print(np.sqrt(mean_squared_error(y_train,y_pred)))\n",
    "print(r2_score(y_train, y_pred))"
   ]
  },
  {
   "cell_type": "code",
   "execution_count": 230,
   "id": "82baf412",
   "metadata": {},
   "outputs": [],
   "source": [
    "y_predict = lasso_reg.predict(X_test)"
   ]
  },
  {
   "cell_type": "code",
   "execution_count": 231,
   "id": "1dc0c367",
   "metadata": {},
   "outputs": [
    {
     "name": "stdout",
     "output_type": "stream",
     "text": [
      "2790.729100071568\n",
      "52.82735181770489\n",
      "0.001648684632723052\n"
     ]
    }
   ],
   "source": [
    "print(mean_squared_error(y_test,y_predict))\n",
    "print(np.sqrt(mean_squared_error(y_test,y_predict)))\n",
    "print(r2_score(y_test, y_predict))"
   ]
  },
  {
   "cell_type": "markdown",
   "id": "07af2867",
   "metadata": {},
   "source": [
    "## Ridge"
   ]
  },
  {
   "cell_type": "code",
   "execution_count": 232,
   "id": "ad4b2fe3",
   "metadata": {},
   "outputs": [],
   "source": [
    "# Using Ridge (L2 Regularized) Regression Model\n",
    "from sklearn.linear_model import Ridge\n",
    "ridge_reg= Ridge(alpha=50, max_iter=100, tol=0.1)\n",
    "ridge_reg.fit(X_train, y_train)\n",
    "y_pred = ridge_reg.predict(X_train)"
   ]
  },
  {
   "cell_type": "code",
   "execution_count": 234,
   "id": "26e29c5d",
   "metadata": {},
   "outputs": [
    {
     "name": "stdout",
     "output_type": "stream",
     "text": [
      "1441.6761360488395\n",
      "37.969410530700095\n",
      "0.37994118786272646\n"
     ]
    }
   ],
   "source": [
    "print(mean_squared_error(y_train,y_pred))\n",
    "print(np.sqrt(mean_squared_error(y_train,y_pred)))\n",
    "print(r2_score(y_train, y_pred))"
   ]
  },
  {
   "cell_type": "code",
   "execution_count": 235,
   "id": "c83b173e",
   "metadata": {},
   "outputs": [],
   "source": [
    "y_predict = ridge_reg.predict(X_test)"
   ]
  },
  {
   "cell_type": "code",
   "execution_count": 236,
   "id": "e14ce4b3",
   "metadata": {},
   "outputs": [
    {
     "name": "stdout",
     "output_type": "stream",
     "text": [
      "1712.924738475642\n",
      "41.38749495289177\n",
      "0.3872208285145088\n"
     ]
    }
   ],
   "source": [
    "print(mean_squared_error(y_test,y_predict))\n",
    "print(np.sqrt(mean_squared_error(y_test,y_predict)))\n",
    "print(r2_score(y_test,y_predict))"
   ]
  },
  {
   "cell_type": "markdown",
   "id": "a290aa56",
   "metadata": {},
   "source": [
    "## Polynomial "
   ]
  },
  {
   "cell_type": "code",
   "execution_count": 238,
   "id": "0636fdca",
   "metadata": {},
   "outputs": [],
   "source": [
    "from sklearn.model_selection import train_test_split\n",
    "X_train, X_test, y_train, y_test = train_test_split(X, y, test_size=0.3, random_state=0)"
   ]
  },
  {
   "cell_type": "code",
   "execution_count": 239,
   "id": "e909d55a",
   "metadata": {},
   "outputs": [
    {
     "data": {
      "text/plain": [
       "LinearRegression()"
      ]
     },
     "execution_count": 239,
     "metadata": {},
     "output_type": "execute_result"
    }
   ],
   "source": [
    "#Fit the Simple Linear Regression Model\n",
    "from sklearn.linear_model import LinearRegression\n",
    "LinReg = LinearRegression()\n",
    "LinReg.fit(X_train, y_train)"
   ]
  },
  {
   "cell_type": "code",
   "execution_count": 240,
   "id": "4c1772ab",
   "metadata": {},
   "outputs": [
    {
     "data": {
      "text/plain": [
       "array([[1., 1., 1., ..., 0., 0., 1.],\n",
       "       [1., 1., 1., ..., 0., 0., 0.],\n",
       "       [1., 0., 3., ..., 0., 0., 1.],\n",
       "       ...,\n",
       "       [1., 0., 3., ..., 1., 0., 0.],\n",
       "       [1., 1., 3., ..., 0., 0., 1.],\n",
       "       [1., 0., 2., ..., 0., 0., 1.]])"
      ]
     },
     "execution_count": 240,
     "metadata": {},
     "output_type": "execute_result"
    }
   ],
   "source": [
    "# Add the polynomial term to the equation/model\n",
    "from sklearn.preprocessing import PolynomialFeatures \n",
    "  \n",
    "polynom = PolynomialFeatures(degree = 2) \n",
    "X_polynom = polynom.fit_transform(X_train) \n",
    "  \n",
    "X_polynom"
   ]
  },
  {
   "cell_type": "code",
   "execution_count": 241,
   "id": "fcb9dfda",
   "metadata": {},
   "outputs": [
    {
     "data": {
      "text/plain": [
       "LinearRegression()"
      ]
     },
     "execution_count": 241,
     "metadata": {},
     "output_type": "execute_result"
    }
   ],
   "source": [
    "#Fit the Polynomial Regression Model \n",
    "PolyReg = LinearRegression() \n",
    "PolyReg.fit(X_polynom, y_train) "
   ]
  },
  {
   "cell_type": "code",
   "execution_count": 247,
   "id": "350f4ffd",
   "metadata": {},
   "outputs": [
    {
     "name": "stdout",
     "output_type": "stream",
     "text": [
      "1426.4717790436137\n",
      "37.76866133507532\n",
      "0.3864805175417273\n"
     ]
    }
   ],
   "source": [
    "#Predicted Height from test dataset w.r.t Simple Linear Regression\n",
    "y_predict_slr = LinReg.predict(X_train)\n",
    "\n",
    "#Model Evaluation using R-Square for Simple Linear Regression\n",
    "from sklearn import metrics\n",
    "# r_square = metrics.r2_score(y_train, y_predict_slr)\n",
    "# mse = mean_squared_error(y_train, y_predict_slr)\n",
    "\n",
    "print(mean_squared_error(y_train,y_predict_slr))\n",
    "print(np.sqrt(mean_squared_error(y_train,y_predict_slr)))\n",
    "print(r2_score(y_train,y_predict_slr))"
   ]
  },
  {
   "cell_type": "code",
   "execution_count": 250,
   "id": "dc7f1ae3",
   "metadata": {},
   "outputs": [
    {
     "name": "stdout",
     "output_type": "stream",
     "text": [
      "R-Square Error associated with Polynomial Regression is: 0.5033864591401997\n"
     ]
    }
   ],
   "source": [
    "#Predicted Height from test dataset w.r.t Polynomial Regression\n",
    "y_predict_pr = PolyReg.predict(polynom.fit_transform(X_test))\n",
    "\n",
    "#Model Evaluation using R-Square for Polynomial Regression\n",
    "from sklearn import metrics\n",
    "r_square = metrics.r2_score(y_test, y_predict_pr)\n",
    "print('R-Square Error associated with Polynomial Regression is:', r_square)"
   ]
  },
  {
   "cell_type": "code",
   "execution_count": 251,
   "id": "efce1f09",
   "metadata": {},
   "outputs": [
    {
     "name": "stdout",
     "output_type": "stream",
     "text": [
      "1388.202568208337\n",
      "37.2585905290087\n",
      "0.5033864591401997\n"
     ]
    }
   ],
   "source": [
    "print(mean_squared_error(y_test,y_predict_pr))\n",
    "print(np.sqrt(mean_squared_error(y_test,y_predict_pr)))\n",
    "print(r2_score(y_test,y_predict_pr))"
   ]
  },
  {
   "cell_type": "code",
   "execution_count": null,
   "id": "5a697d3c",
   "metadata": {},
   "outputs": [],
   "source": []
  },
  {
   "cell_type": "code",
   "execution_count": null,
   "id": "6b3a0ed0",
   "metadata": {},
   "outputs": [],
   "source": []
  },
  {
   "cell_type": "code",
   "execution_count": null,
   "id": "8db50249",
   "metadata": {},
   "outputs": [],
   "source": []
  },
  {
   "cell_type": "code",
   "execution_count": null,
   "id": "eeeb7e02",
   "metadata": {},
   "outputs": [],
   "source": []
  },
  {
   "cell_type": "code",
   "execution_count": null,
   "id": "9172db91",
   "metadata": {},
   "outputs": [],
   "source": []
  },
  {
   "cell_type": "code",
   "execution_count": null,
   "id": "ec9b8a15",
   "metadata": {},
   "outputs": [],
   "source": []
  },
  {
   "cell_type": "code",
   "execution_count": null,
   "id": "785b7456",
   "metadata": {},
   "outputs": [],
   "source": []
  },
  {
   "cell_type": "code",
   "execution_count": null,
   "id": "981e6c2b",
   "metadata": {},
   "outputs": [],
   "source": []
  },
  {
   "cell_type": "code",
   "execution_count": null,
   "id": "ff962975",
   "metadata": {},
   "outputs": [],
   "source": []
  },
  {
   "cell_type": "code",
   "execution_count": null,
   "id": "0616bc8d",
   "metadata": {},
   "outputs": [],
   "source": []
  },
  {
   "cell_type": "code",
   "execution_count": null,
   "id": "15555eeb",
   "metadata": {},
   "outputs": [],
   "source": []
  },
  {
   "cell_type": "code",
   "execution_count": null,
   "id": "9c5cfaf2",
   "metadata": {},
   "outputs": [],
   "source": []
  },
  {
   "cell_type": "code",
   "execution_count": null,
   "id": "e7975de1",
   "metadata": {},
   "outputs": [],
   "source": []
  },
  {
   "cell_type": "code",
   "execution_count": null,
   "id": "d96b4b6d",
   "metadata": {},
   "outputs": [],
   "source": []
  },
  {
   "cell_type": "code",
   "execution_count": null,
   "id": "da20edfa",
   "metadata": {},
   "outputs": [],
   "source": []
  },
  {
   "cell_type": "code",
   "execution_count": null,
   "id": "aa681f97",
   "metadata": {},
   "outputs": [],
   "source": []
  },
  {
   "cell_type": "code",
   "execution_count": null,
   "id": "a946732e",
   "metadata": {},
   "outputs": [],
   "source": []
  },
  {
   "cell_type": "code",
   "execution_count": null,
   "id": "f50ce090",
   "metadata": {},
   "outputs": [],
   "source": []
  },
  {
   "cell_type": "code",
   "execution_count": null,
   "id": "012d8b9e",
   "metadata": {},
   "outputs": [],
   "source": []
  },
  {
   "cell_type": "code",
   "execution_count": null,
   "id": "ae5f7e25",
   "metadata": {},
   "outputs": [],
   "source": []
  },
  {
   "cell_type": "code",
   "execution_count": null,
   "id": "cc727292",
   "metadata": {},
   "outputs": [],
   "source": []
  },
  {
   "cell_type": "code",
   "execution_count": null,
   "id": "c9cd70f2",
   "metadata": {},
   "outputs": [],
   "source": []
  },
  {
   "cell_type": "code",
   "execution_count": null,
   "id": "f950960b",
   "metadata": {},
   "outputs": [],
   "source": []
  },
  {
   "cell_type": "code",
   "execution_count": null,
   "id": "f6020600",
   "metadata": {},
   "outputs": [],
   "source": []
  },
  {
   "cell_type": "code",
   "execution_count": null,
   "id": "e48aa589",
   "metadata": {},
   "outputs": [],
   "source": []
  },
  {
   "cell_type": "code",
   "execution_count": null,
   "id": "bf67fd81",
   "metadata": {},
   "outputs": [],
   "source": []
  },
  {
   "cell_type": "code",
   "execution_count": null,
   "id": "2e173fbb",
   "metadata": {},
   "outputs": [],
   "source": []
  },
  {
   "cell_type": "code",
   "execution_count": null,
   "id": "f61dea7c",
   "metadata": {},
   "outputs": [],
   "source": []
  },
  {
   "cell_type": "code",
   "execution_count": null,
   "id": "75655a48",
   "metadata": {},
   "outputs": [],
   "source": []
  },
  {
   "cell_type": "code",
   "execution_count": null,
   "id": "45e766c6",
   "metadata": {},
   "outputs": [],
   "source": []
  },
  {
   "cell_type": "code",
   "execution_count": null,
   "id": "244bcb83",
   "metadata": {},
   "outputs": [],
   "source": []
  },
  {
   "cell_type": "code",
   "execution_count": null,
   "id": "fb739edd",
   "metadata": {},
   "outputs": [],
   "source": []
  },
  {
   "cell_type": "code",
   "execution_count": null,
   "id": "b25aa3b2",
   "metadata": {},
   "outputs": [],
   "source": []
  },
  {
   "cell_type": "code",
   "execution_count": null,
   "id": "7b700a85",
   "metadata": {},
   "outputs": [],
   "source": []
  },
  {
   "cell_type": "code",
   "execution_count": null,
   "id": "34d6c1d4",
   "metadata": {},
   "outputs": [],
   "source": []
  },
  {
   "cell_type": "code",
   "execution_count": null,
   "id": "db2d6ffa",
   "metadata": {},
   "outputs": [],
   "source": []
  },
  {
   "cell_type": "code",
   "execution_count": null,
   "id": "666e1a57",
   "metadata": {},
   "outputs": [],
   "source": []
  },
  {
   "cell_type": "code",
   "execution_count": null,
   "id": "6b60ab53",
   "metadata": {},
   "outputs": [],
   "source": []
  },
  {
   "cell_type": "code",
   "execution_count": null,
   "id": "2ee6414e",
   "metadata": {},
   "outputs": [],
   "source": []
  },
  {
   "cell_type": "code",
   "execution_count": null,
   "id": "23a21162",
   "metadata": {},
   "outputs": [],
   "source": []
  },
  {
   "cell_type": "code",
   "execution_count": null,
   "id": "eade29d7",
   "metadata": {},
   "outputs": [],
   "source": []
  },
  {
   "cell_type": "code",
   "execution_count": null,
   "id": "4c4575fc",
   "metadata": {},
   "outputs": [],
   "source": []
  },
  {
   "cell_type": "code",
   "execution_count": null,
   "id": "57cdf874",
   "metadata": {},
   "outputs": [],
   "source": []
  },
  {
   "cell_type": "code",
   "execution_count": null,
   "id": "c6b83532",
   "metadata": {},
   "outputs": [],
   "source": []
  },
  {
   "cell_type": "code",
   "execution_count": null,
   "id": "3a6cd561",
   "metadata": {},
   "outputs": [],
   "source": []
  },
  {
   "cell_type": "code",
   "execution_count": null,
   "id": "8fdfa4c0",
   "metadata": {},
   "outputs": [],
   "source": []
  },
  {
   "cell_type": "code",
   "execution_count": null,
   "id": "1a70b194",
   "metadata": {},
   "outputs": [],
   "source": []
  },
  {
   "cell_type": "code",
   "execution_count": null,
   "id": "454d4958",
   "metadata": {},
   "outputs": [],
   "source": []
  },
  {
   "cell_type": "code",
   "execution_count": null,
   "id": "b76d0f4e",
   "metadata": {},
   "outputs": [],
   "source": []
  },
  {
   "cell_type": "code",
   "execution_count": null,
   "id": "39f590d2",
   "metadata": {},
   "outputs": [],
   "source": []
  },
  {
   "cell_type": "code",
   "execution_count": null,
   "id": "b1724294",
   "metadata": {},
   "outputs": [],
   "source": []
  },
  {
   "cell_type": "code",
   "execution_count": null,
   "id": "9d9b6a97",
   "metadata": {},
   "outputs": [],
   "source": []
  },
  {
   "cell_type": "code",
   "execution_count": null,
   "id": "75ca5130",
   "metadata": {},
   "outputs": [],
   "source": []
  },
  {
   "cell_type": "code",
   "execution_count": null,
   "id": "ab15098d",
   "metadata": {},
   "outputs": [],
   "source": []
  },
  {
   "cell_type": "code",
   "execution_count": null,
   "id": "c60bd30f",
   "metadata": {},
   "outputs": [],
   "source": []
  },
  {
   "cell_type": "code",
   "execution_count": null,
   "id": "181a97b7",
   "metadata": {},
   "outputs": [],
   "source": []
  },
  {
   "cell_type": "code",
   "execution_count": null,
   "id": "ed5b3ad4",
   "metadata": {},
   "outputs": [],
   "source": []
  },
  {
   "cell_type": "code",
   "execution_count": null,
   "id": "16c01664",
   "metadata": {},
   "outputs": [],
   "source": []
  },
  {
   "cell_type": "code",
   "execution_count": null,
   "id": "ab8a1e55",
   "metadata": {},
   "outputs": [],
   "source": []
  },
  {
   "cell_type": "code",
   "execution_count": null,
   "id": "08c889f6",
   "metadata": {},
   "outputs": [],
   "source": []
  },
  {
   "cell_type": "code",
   "execution_count": null,
   "id": "18665c74",
   "metadata": {},
   "outputs": [],
   "source": []
  },
  {
   "cell_type": "code",
   "execution_count": null,
   "id": "0570cf30",
   "metadata": {},
   "outputs": [],
   "source": []
  },
  {
   "cell_type": "code",
   "execution_count": null,
   "id": "da02b39e",
   "metadata": {},
   "outputs": [],
   "source": []
  },
  {
   "cell_type": "code",
   "execution_count": null,
   "id": "6913c17e",
   "metadata": {},
   "outputs": [],
   "source": []
  },
  {
   "cell_type": "code",
   "execution_count": null,
   "id": "c5b5c204",
   "metadata": {},
   "outputs": [],
   "source": []
  },
  {
   "cell_type": "code",
   "execution_count": null,
   "id": "6d078d28",
   "metadata": {},
   "outputs": [],
   "source": []
  },
  {
   "cell_type": "code",
   "execution_count": null,
   "id": "a731e387",
   "metadata": {},
   "outputs": [],
   "source": []
  },
  {
   "cell_type": "code",
   "execution_count": null,
   "id": "247393af",
   "metadata": {},
   "outputs": [],
   "source": []
  }
 ],
 "metadata": {
  "kernelspec": {
   "display_name": "Python 3 (ipykernel)",
   "language": "python",
   "name": "python3"
  },
  "language_info": {
   "codemirror_mode": {
    "name": "ipython",
    "version": 3
   },
   "file_extension": ".py",
   "mimetype": "text/x-python",
   "name": "python",
   "nbconvert_exporter": "python",
   "pygments_lexer": "ipython3",
   "version": "3.9.12"
  }
 },
 "nbformat": 4,
 "nbformat_minor": 5
}
